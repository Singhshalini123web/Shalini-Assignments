{
  "nbformat": 4,
  "nbformat_minor": 0,
  "metadata": {
    "colab": {
      "provenance": [],
      "authorship_tag": "ABX9TyN4w8ngNqgmMDELKqu7jeIU",
      "include_colab_link": true
    },
    "kernelspec": {
      "name": "python3",
      "display_name": "Python 3"
    },
    "language_info": {
      "name": "python"
    }
  },
  "cells": [
    {
      "cell_type": "markdown",
      "metadata": {
        "id": "view-in-github",
        "colab_type": "text"
      },
      "source": [
        "<a href=\"https://colab.research.google.com/github/ANIRUDH9325/numpy-assignment-pw-skills/blob/main/numpy_assignment.ipynb\" target=\"_parent\"><img src=\"https://colab.research.google.com/assets/colab-badge.svg\" alt=\"Open In Colab\"/></a>"
      ]
    },
    {
      "cell_type": "code",
      "execution_count": null,
      "metadata": {
        "colab": {
          "base_uri": "https://localhost:8080/"
        },
        "id": "joeyKYVvqwf0",
        "outputId": "e64e6320-f0a8-45e6-e6c9-9193aced84d1"
      },
      "outputs": [
        {
          "output_type": "stream",
          "name": "stdout",
          "text": [
            "original array:\n",
            "[[40 64  6]\n",
            " [93 12 54]\n",
            " [53 47 96]]\n",
            "\n",
            " transported array:\n",
            "[[40 93 53]\n",
            " [64 12 47]\n",
            " [ 6 54 96]]\n"
          ]
        }
      ],
      "source": [
        "#1)CREATE A 3X3 NUMPY  ARRAY WITH RANDOM INTEGERS BETWEEN 1 AND 100 THEN,INTERCHANGE ITS ROWS AND COLUMNS\n",
        "import numpy as np\n",
        "array=np.random.randint(1,101,size=(3,3))\n",
        "print(\"original array:\")\n",
        "print(array)\n",
        "transposed_array=array.T\n",
        "print(\"\\n transported array:\")\n",
        "print(transposed_array)"
      ]
    },
    {
      "cell_type": "code",
      "source": [
        "#2:)generate a 1d numpy array with 10 elements reshape it into a 2x5 array, then into a 5x2 array\n",
        "import numpy as np\n",
        "array_1d=np.arange(10)\n",
        "print(\"original array:\")\n",
        "print(array_1d)\n",
        "array_2x5=array_1d.reshape(2,5)\n",
        "print(array_2x5)\n",
        "array_5x2=array_1d.reshape(5,2)\n",
        "print(\"\\nreshaped to 5x2 array:\")\n",
        "print(array_5x2)"
      ],
      "metadata": {
        "colab": {
          "base_uri": "https://localhost:8080/"
        },
        "id": "LJPjz20Sr2Wu",
        "outputId": "80dce91c-53fb-4f23-c107-8626030965b8"
      },
      "execution_count": null,
      "outputs": [
        {
          "output_type": "stream",
          "name": "stdout",
          "text": [
            "original array:\n",
            "[0 1 2 3 4 5 6 7 8 9]\n",
            "[[0 1 2 3 4]\n",
            " [5 6 7 8 9]]\n",
            "\n",
            "reshaped to 5x2 array:\n",
            "[[0 1]\n",
            " [2 3]\n",
            " [4 5]\n",
            " [6 7]\n",
            " [8 9]]\n"
          ]
        }
      ]
    },
    {
      "cell_type": "code",
      "source": [
        "#create a 4x4 numpy array with random float values add a border of zeros around it resulting in a 6X6 array\n",
        "import numpy as np\n",
        "#xreate a 4X4 array\n",
        "original_array=np.random.rand(4,4)\n",
        "#adding border\n",
        "bordered_array=np.pad(original_array,pad_width=1,mode='constant',constant_values=0)\n",
        "\n",
        "print(\"original 4x4 array:\")\n",
        "print(original_array)\n",
        "print(\"\\n6x6 array with a border of zeros:\")\n",
        "print(bordered_array)"
      ],
      "metadata": {
        "id": "4G_vCE1wtYbU",
        "colab": {
          "base_uri": "https://localhost:8080/",
          "height": 0
        },
        "outputId": "70b60a72-36ca-42e2-e411-25f055864857"
      },
      "execution_count": 1,
      "outputs": [
        {
          "output_type": "stream",
          "name": "stdout",
          "text": [
            "original 4x4 array:\n",
            "[[0.58234617 0.55078973 0.56653237 0.23956233]\n",
            " [0.47441892 0.68025788 0.28959154 0.42574083]\n",
            " [0.36588924 0.19369737 0.6464166  0.64933434]\n",
            " [0.80634653 0.22786812 0.13779374 0.99258246]]\n",
            "\n",
            "6x6 array with a border of zeros:\n",
            "[[0.         0.         0.         0.         0.         0.        ]\n",
            " [0.         0.58234617 0.55078973 0.56653237 0.23956233 0.        ]\n",
            " [0.         0.47441892 0.68025788 0.28959154 0.42574083 0.        ]\n",
            " [0.         0.36588924 0.19369737 0.6464166  0.64933434 0.        ]\n",
            " [0.         0.80634653 0.22786812 0.13779374 0.99258246 0.        ]\n",
            " [0.         0.         0.         0.         0.         0.        ]]\n"
          ]
        }
      ]
    },
    {
      "cell_type": "code",
      "source": [
        "#4) using numpy create an array of integers from 10 to 60 with a step of 5\n",
        "import numpy as np\n",
        "array=np.arange(10,65,5)\n",
        "print(array)\n"
      ],
      "metadata": {
        "colab": {
          "base_uri": "https://localhost:8080/",
          "height": 0
        },
        "id": "n3CeGavFcRq9",
        "outputId": "7eb55130-6300-4bed-d40b-c1662a33bb18"
      },
      "execution_count": 2,
      "outputs": [
        {
          "output_type": "stream",
          "name": "stdout",
          "text": [
            "[10 15 20 25 30 35 40 45 50 55 60]\n"
          ]
        }
      ]
    },
    {
      "cell_type": "code",
      "source": [
        "#5) create a numpy array of strings ['python','numpy','pandas'].apply different case transformation (uppercase,lowercase,title case,etc.)to each element\n",
        "import numpy as np\n",
        "#create a numpy array of strings\n",
        "arr=np.array(['python','numpy','pandas'])\n",
        "#apply different case transformations\n",
        "uppercase=np.char.upper(arr)\n",
        "lowercase=np.char.lower(arr)\n",
        "titlecase=np.char.title(arr)\n",
        "capitalize=np.char.capitalize(arr)\n",
        "#print the result\n",
        "print(\"original array:\",arr)\n",
        "print(\"uppercase:\",uppercase)\n",
        "print(\"lowercase:\",lowercase)\n",
        "print(\"titlecase:\",titlecase)\n",
        "print(\"capitalize:\",capitalize)"
      ],
      "metadata": {
        "colab": {
          "base_uri": "https://localhost:8080/",
          "height": 0
        },
        "id": "TcsWvKuecvuM",
        "outputId": "c39c6677-6dc8-4b39-a863-d1db516a9908"
      },
      "execution_count": 2,
      "outputs": [
        {
          "output_type": "stream",
          "name": "stdout",
          "text": [
            "original array: ['python' 'numpy' 'pandas']\n",
            "uppercase: ['PYTHON' 'NUMPY' 'PANDAS']\n",
            "lowercase: ['python' 'numpy' 'pandas']\n",
            "titlecase: ['Python' 'Numpy' 'Pandas']\n",
            "capitalize: ['Python' 'Numpy' 'Pandas']\n"
          ]
        }
      ]
    },
    {
      "cell_type": "code",
      "source": [
        "#6:)generate a numpy array of words insert a space between each character of every word in the array.\n",
        "import numpy as np\n",
        "#create a numpy array words\n",
        "words=np.array(['hello','world','python'])\n",
        "#insert a space between each character of every word\n",
        "spaced_words=np.char.join(' ',words)\n",
        "#print the result\n",
        "print(\"original array:\",words)\n",
        "print(\"words with spaces:\",spaced_words)"
      ],
      "metadata": {
        "colab": {
          "base_uri": "https://localhost:8080/",
          "height": 0
        },
        "id": "t1eNdo4Nvpe3",
        "outputId": "f32bfa6a-51cc-42e6-a559-543a275ba80c"
      },
      "execution_count": 3,
      "outputs": [
        {
          "output_type": "stream",
          "name": "stdout",
          "text": [
            "original array: ['hello' 'world' 'python']\n",
            "words with spaces: ['h e l l o' 'w o r l d' 'p y t h o n']\n"
          ]
        }
      ]
    },
    {
      "cell_type": "code",
      "source": [
        "#7:)create a 2d numpy arrays and perform elementwise addition subtraction multiplication and division\n",
        "import numpy as np\n",
        "#create two 2d numpy arrays\n",
        "array1=np.array([[1,2,3],[4,5,6]])\n",
        "array2=np.array([[7,8,9],[10,11,12]])\n",
        "#perform elementwise addition\n",
        "addition=array1+array2\n",
        "#substraction\n",
        "subtraction=array1-array2\n",
        "#multiplication\n",
        "multiplication=array1*array2\n",
        "#division\n",
        "division=array1/array2\n",
        "#print result\n",
        "print(\"array 1:\\n\",array1)\n",
        "print(\"array 2L:\\n\",array2)\n",
        "print(\"\\naddition:\\n\",addition)\n",
        "print(\"\\nsubtraction:\\n\",subtraction)\n",
        "print(\"\\nmultiplication:\\n\",multiplication)\n",
        "print(\"\\ndivision:\\n\",division)"
      ],
      "metadata": {
        "colab": {
          "base_uri": "https://localhost:8080/",
          "height": 0
        },
        "id": "ECmiSeMhwYFI",
        "outputId": "8b098712-4244-4721-a1f2-2c3b1227b4c7"
      },
      "execution_count": 4,
      "outputs": [
        {
          "output_type": "stream",
          "name": "stdout",
          "text": [
            "array 1:\n",
            " [[1 2 3]\n",
            " [4 5 6]]\n",
            "array 2L:\n",
            " [[ 7  8  9]\n",
            " [10 11 12]]\n",
            "\n",
            "addition:\n",
            " [[ 8 10 12]\n",
            " [14 16 18]]\n",
            "\n",
            "subtraction:\n",
            " [[-6 -6 -6]\n",
            " [-6 -6 -6]]\n",
            "\n",
            "multiplication:\n",
            " [[ 7 16 27]\n",
            " [40 55 72]]\n",
            "\n",
            "division:\n",
            " [[0.14285714 0.25       0.33333333]\n",
            " [0.4        0.45454545 0.5       ]]\n"
          ]
        }
      ]
    },
    {
      "cell_type": "code",
      "source": [
        "#8)use numpy to create a 5x5 identity matrix then extract its diagonal elementsimport numpy as np\n",
        "import numpy as np\n",
        "#create a 5x5 matrix\n",
        "identity_matrix=np.eye(5)\n",
        "#extract the diagonal elements\n",
        "diagonal_elements=np.diag(identity_matrix)\n",
        "#print result\n",
        "print(\"5x5 identity matrix:\\n\",identity_matrix)\n",
        "print(\"\\ndiagonal elements:\",diagonal_elements)"
      ],
      "metadata": {
        "colab": {
          "base_uri": "https://localhost:8080/",
          "height": 0
        },
        "id": "rr5YtY-tyQ20",
        "outputId": "e856cbb6-2e54-4f6a-d287-d550d0befbd2"
      },
      "execution_count": 5,
      "outputs": [
        {
          "output_type": "stream",
          "name": "stdout",
          "text": [
            "5x5 identity matrix:\n",
            " [[1. 0. 0. 0. 0.]\n",
            " [0. 1. 0. 0. 0.]\n",
            " [0. 0. 1. 0. 0.]\n",
            " [0. 0. 0. 1. 0.]\n",
            " [0. 0. 0. 0. 1.]]\n",
            "\n",
            "diagonal elements: [1. 1. 1. 1. 1.]\n"
          ]
        }
      ]
    },
    {
      "cell_type": "code",
      "source": [
        "#9)generate a numpy array of 100 random ........\n",
        "import numpy as np\n",
        "random_integers=np.random.randint(0,1001,size=100)\n",
        "#function to check if a number is prime\n",
        "def is_prime(num):\n",
        "  if num<=1:\n",
        "    return False\n",
        "  for i in range(2,int(num**0.5)+1):\n",
        "    if num % i==0:\n",
        "      return False\n",
        "  return True\n",
        "#find all prime numbers in the array\n",
        "prime_numbers=[num for num in random_integers if is_prime(num)]\n",
        "#print result\n",
        "print(\"random integers array:\\n\",random_integers)\n",
        "print(\"\\nprime numbers in the array:,prime_numbers\")"
      ],
      "metadata": {
        "colab": {
          "base_uri": "https://localhost:8080/",
          "height": 0
        },
        "id": "XFAPGz2_zfrN",
        "outputId": "52933aa9-e974-4b9e-d7c2-9f296cbaf0c0"
      },
      "execution_count": 7,
      "outputs": [
        {
          "output_type": "stream",
          "name": "stdout",
          "text": [
            "random integers array:\n",
            " [908 857 268 234  93 707 436 538 395 438 896 299 340 652 414 931 864  59\n",
            " 373 207 877 142 209 385  15  70  86 631 670 587 221 340 305 617 243 676\n",
            " 157 652 870  22 667 276 696 900 972 755 870 526 374 733 243 956 241 713\n",
            " 139  13 143 678 194 281 187 268 297 872 499 558 123 870 596 926 680 765\n",
            " 527 509 834 360 748 996 219 238 302 109 161 687 214 526 849 714 633 425\n",
            " 292 265 413 799 988 512 113 104 923 399]\n",
            "\n",
            "prime numbers in the array:,prime_numbers\n"
          ]
        }
      ]
    },
    {
      "cell_type": "code",
      "source": [
        "#10) create a numpy array representing daily temperatures........\n",
        "import numpy as np\n",
        "#create a numpy array representing daily temp for 30 days\n",
        "np.random.seed(0)\n",
        "daily_temperatures=np.random.randint(0,101,size=30)\n",
        "weekly_temperatures=daily_temperatures.reshape (-1,30)\n",
        "weekly_averages=np.mean(weekly_temperatures,axis=1)\n",
        "#print result\n",
        "print(\"daily temperatures for a month:\\n\",daily_temperatures)\n",
        "print(\"\\nweekly averages:\",weekly_averages)"
      ],
      "metadata": {
        "colab": {
          "base_uri": "https://localhost:8080/",
          "height": 0
        },
        "id": "h_PCiMcM1BhY",
        "outputId": "f4098695-f014-4ecb-9034-ed10000212a8"
      },
      "execution_count": 11,
      "outputs": [
        {
          "output_type": "stream",
          "name": "stdout",
          "text": [
            "daily temperatures for a month:\n",
            " [44 47 64 67 67  9 83 21 36 87 70 88 88 12 58 65 39 87 46 88 81 37 25 77\n",
            " 72  9 20 80 69 79]\n",
            "\n",
            "weekly averages: [57.16666667]\n"
          ]
        }
      ]
    },
    {
      "cell_type": "code",
      "source": [],
      "metadata": {
        "id": "-Dc0xwoD2b8h"
      },
      "execution_count": null,
      "outputs": []
    }
  ]
}