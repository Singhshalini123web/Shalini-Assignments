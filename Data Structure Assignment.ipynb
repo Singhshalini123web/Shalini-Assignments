{
  "nbformat": 4,
  "nbformat_minor": 0,
  "metadata": {
    "colab": {
      "provenance": []
    },
    "kernelspec": {
      "name": "python3",
      "display_name": "Python 3"
    },
    "language_info": {
      "name": "python"
    }
  },
  "cells": [
    {
      "cell_type": "markdown",
      "source": [
        "**Q1. Discuss string slicing and provide examples.**"
      ],
      "metadata": {
        "id": "BRQRvh3b3EM1"
      }
    },
    {
      "cell_type": "markdown",
      "source": [
        "**Ans:** **String slicing** is a method in Python that will allow you to extract a segment (substring) from a string by designating a particular range of indices. This technique uses the **syntax**:\n",
        "\n",
        "                   string[start:end:step], where:\n",
        "\n",
        "**start** is the index where the slice starts (***inclusive***),\n",
        "\n",
        "**end** is the index where slice ends (***exclusive***),\n",
        "\n",
        "**step** defines the step or stride between indices (***optional***).\n",
        "\n",
        "If the above values are not specified, Python takes the following as default:\n",
        "1.   start defaults to 0,\n",
        "2.   end defaults to the length of the string,\n",
        "3.   Step defaults to\n",
        "\n",
        "**Note:** 1. Python supports ***negative indices***, where -1 refers to the last character, -2 to the second-to-last character, and so on. We can use negative indices to slice from the end of the string.\n",
        "\n",
        "2. Due to negative indices feature, we can also use a negative step to **reverse the string** or slice it in reverse order.\n",
        "\n",
        "Examples of different type of String Slicing are given below with code:\n",
        "\n"
      ],
      "metadata": {
        "id": "t9-7jEU57phu"
      }
    },
    {
      "cell_type": "code",
      "source": [
        "# Basic Slicing: Extract a substring by specifying a start and end.\n",
        "\n",
        "text = \"String Slicing\"\n",
        "substring = text[0:6]  # Extracts characters from index 0 to 5\n",
        "print(substring)  # Output: String\n"
      ],
      "metadata": {
        "colab": {
          "base_uri": "https://localhost:8080/"
        },
        "id": "i6_vagsz9uw8",
        "outputId": "f3336456-f4fe-43b8-9c21-db5b00ba908f"
      },
      "execution_count": null,
      "outputs": [
        {
          "output_type": "stream",
          "name": "stdout",
          "text": [
            "String\n"
          ]
        }
      ]
    },
    {
      "cell_type": "code",
      "source": [
        "# Omitting Start and End: If you omit the start and end, it returns the entire string.\n",
        "\n",
        "text = \"String Slicing\"\n",
        "substring = text[:]  # Copy of the entire string\n",
        "print(substring)  # Output: String Slicing\n"
      ],
      "metadata": {
        "colab": {
          "base_uri": "https://localhost:8080/"
        },
        "id": "iYRqSFIA-fuz",
        "outputId": "79fa63f0-e01b-4135-c261-18baaf37f40a"
      },
      "execution_count": null,
      "outputs": [
        {
          "output_type": "stream",
          "name": "stdout",
          "text": [
            "String Slicing\n"
          ]
        }
      ]
    },
    {
      "cell_type": "code",
      "source": [
        "# Omitting Start: If you omit the start, Python starts at the beginning of the string.\n",
        "\n",
        "text = \"String Slicing\"\n",
        "substring = text[:6]  # Extracts from index 0 to 5\n",
        "print(substring)  # Output: String\n"
      ],
      "metadata": {
        "colab": {
          "base_uri": "https://localhost:8080/"
        },
        "id": "Z_Dig1Bu_CsM",
        "outputId": "95ca31a2-44b3-462d-87e2-e3b7efd63b1f"
      },
      "execution_count": null,
      "outputs": [
        {
          "output_type": "stream",
          "name": "stdout",
          "text": [
            "String\n"
          ]
        }
      ]
    },
    {
      "cell_type": "code",
      "source": [
        "# Omitting End: If you omit the end, Python goes until the end of the string.\n",
        "\n",
        "text = \"String Slicing\"\n",
        "substring = text[7:]  # Extracts from index 7 to the end\n",
        "print(substring)  # Output: Slicing\n"
      ],
      "metadata": {
        "colab": {
          "base_uri": "https://localhost:8080/"
        },
        "id": "0JjNIhUA_XDD",
        "outputId": "8b3c4a42-104b-48fc-b61a-a70a720b515c"
      },
      "execution_count": null,
      "outputs": [
        {
          "output_type": "stream",
          "name": "stdout",
          "text": [
            "Slicing\n"
          ]
        }
      ]
    },
    {
      "cell_type": "code",
      "source": [
        "# Using Step: The step parameter allows you to skip characters. A step of 2 will select every second character.\n",
        "\n",
        "text = \"String Slicing\"\n",
        "substring = text[::2]  # Every second character\n",
        "print(substring)  # Output: Srn lcn\n"
      ],
      "metadata": {
        "colab": {
          "base_uri": "https://localhost:8080/"
        },
        "id": "mz7RoXxQ_pS7",
        "outputId": "2b8f12cd-ca20-4e86-b8d6-e4facd363a05"
      },
      "execution_count": null,
      "outputs": [
        {
          "output_type": "stream",
          "name": "stdout",
          "text": [
            "Srn lcn\n"
          ]
        }
      ]
    },
    {
      "cell_type": "code",
      "source": [
        "# Negative Indices:\n",
        "\n",
        "text = \"String Slicing\"\n",
        "substring = text[-7:-1]  # From the 6th last character to the last (excluding it)\n",
        "print(substring)  # Output: Slicin\n"
      ],
      "metadata": {
        "colab": {
          "base_uri": "https://localhost:8080/"
        },
        "id": "GAcjXnoJABCy",
        "outputId": "32925828-34f1-4c78-9c52-ccbdb9cf079d"
      },
      "execution_count": null,
      "outputs": [
        {
          "output_type": "stream",
          "name": "stdout",
          "text": [
            "Slicin\n"
          ]
        }
      ]
    },
    {
      "cell_type": "code",
      "source": [
        "# Slicing with Negative Step: You can also use a negative step to reverse the string or slice it in reverse order.\n",
        "\n",
        "text = \"String Slicing\"\n",
        "substring = text[::-1]  # Reverses the string\n",
        "print(substring)  # Output: gnicilS gnirtS\n"
      ],
      "metadata": {
        "colab": {
          "base_uri": "https://localhost:8080/"
        },
        "id": "KEOmn2j_BUES",
        "outputId": "10b7b8fb-5f48-4212-87e9-d4509c891613"
      },
      "execution_count": null,
      "outputs": [
        {
          "output_type": "stream",
          "name": "stdout",
          "text": [
            "gnicilS gnirtS\n"
          ]
        }
      ]
    },
    {
      "cell_type": "code",
      "source": [
        "# Slicing with a Range: Slicing can also be used to extract a specific range of characters.\n",
        "\n",
        "text = \"String Slicing\"\n",
        "substring = text[3:8]  # Extracts characters from index 3 to 8\n",
        "print(substring)  # Output: ing S\n"
      ],
      "metadata": {
        "colab": {
          "base_uri": "https://localhost:8080/"
        },
        "id": "orJMxSgrCTmq",
        "outputId": "7c46ffd3-5160-45cc-f5f1-d91ef3afd94c"
      },
      "execution_count": null,
      "outputs": [
        {
          "output_type": "stream",
          "name": "stdout",
          "text": [
            "ing S\n"
          ]
        }
      ]
    },
    {
      "cell_type": "markdown",
      "source": [
        "  That's why String Slicing/string Splitting is a powerful feature in Python that allows making efficient manipulation of string contents for a wide array of purposes, be it extracting substrings, reversing strings, or even skipping characters at regular intervals.\n",
        "\n",
        "\n",
        "\n"
      ],
      "metadata": {
        "id": "zKHfOvKpCzMK"
      }
    },
    {
      "cell_type": "markdown",
      "source": [
        "**Q2. Explain the key features of lists in Python.**"
      ],
      "metadata": {
        "id": "DWrznhJhC-IS"
      }
    },
    {
      "cell_type": "markdown",
      "source": [
        "**Ans:** **Lists** in Python are one of the most commonly used data structures. They can be described as versatile, mutable - that means that after a list is created it can be modified and may contain some group of elements. The key characteristics of lists are outlined below:\n",
        "*  **Ordered Collection:**\n",
        "List maintains its elements in some order. The elements of a list are in a particular sequence, and you can obtain them by their index. The index of the first element is 0."
      ],
      "metadata": {
        "id": "5Q0ufU5yDwkd"
      }
    },
    {
      "cell_type": "code",
      "source": [
        "# Ordered Collection:\n",
        "\n",
        "my_list = [10, 20, 30, 40]\n",
        "print(my_list[0])  # Output: Element at index 0\n",
        "print(my_list[3])  # Output: Element at index 3\n"
      ],
      "metadata": {
        "colab": {
          "base_uri": "https://localhost:8080/"
        },
        "id": "_WfuVNWSFjmj",
        "outputId": "f776a804-641b-4af9-c20b-d69f0f843370"
      },
      "execution_count": null,
      "outputs": [
        {
          "output_type": "stream",
          "name": "stdout",
          "text": [
            "10\n",
            "40\n"
          ]
        }
      ]
    },
    {
      "cell_type": "markdown",
      "source": [
        "*   **Mutable:**\n",
        "Lists are mutable, meaning that you can change their content after they have been created. You can add, remove, or modify elements."
      ],
      "metadata": {
        "id": "gkQV09oMGBUb"
      }
    },
    {
      "cell_type": "code",
      "source": [
        "#Mutable: Modifying a list\n",
        "\n",
        "my_list = [10, 20, 30, 40]\n",
        "my_list[1] = 25  # Change the value at index 1\n",
        "print(my_list)\n"
      ],
      "metadata": {
        "colab": {
          "base_uri": "https://localhost:8080/"
        },
        "id": "GuOF-skGGYDS",
        "outputId": "498ad966-09c9-42ad-c28a-6a8409240129"
      },
      "execution_count": null,
      "outputs": [
        {
          "output_type": "stream",
          "name": "stdout",
          "text": [
            "[10, 25, 30, 40]\n"
          ]
        }
      ]
    },
    {
      "cell_type": "markdown",
      "source": [
        "\n",
        "\n",
        "* **Can Store Mixed Data Types:** A list can store elements of different data types (e.g., integers, strings, floats, other lists, etc.)."
      ],
      "metadata": {
        "id": "-gxOsCpnGzLq"
      }
    },
    {
      "cell_type": "code",
      "source": [
        "# List store mix data type:\n",
        "\n",
        "my_list = [4, \"hello\", 6.89, [5, 6]]\n",
        "print(my_list[1])\n",
        "print(my_list[3])\n"
      ],
      "metadata": {
        "colab": {
          "base_uri": "https://localhost:8080/"
        },
        "id": "rUp2RiXwHKMK",
        "outputId": "104f06f5-5f4e-4ea7-e9e8-db2583cf0c34"
      },
      "execution_count": null,
      "outputs": [
        {
          "output_type": "stream",
          "name": "stdout",
          "text": [
            "hello\n",
            "[5, 6]\n"
          ]
        }
      ]
    },
    {
      "cell_type": "markdown",
      "source": [
        "\n",
        "\n",
        "*  **Indexed:**\n",
        "Same as Strings, elements in a list are accessed using an index. Lists support both positive and negative indexing. Positive indexing starts at 0 for the first element, and negative indexing starts from -1 for the last element."
      ],
      "metadata": {
        "id": "Z5HCOOFnHfMB"
      }
    },
    {
      "cell_type": "code",
      "source": [
        "# Indexed\n",
        "\n",
        "my_list = [100, 200, 300, 400, 500]\n",
        "print(my_list[0])\n",
        "print(my_list[-1])\n"
      ],
      "metadata": {
        "colab": {
          "base_uri": "https://localhost:8080/"
        },
        "id": "MoBrRVFgIAYb",
        "outputId": "9cd5db41-3db4-4518-d490-c138bfda6d7c"
      },
      "execution_count": null,
      "outputs": [
        {
          "output_type": "stream",
          "name": "stdout",
          "text": [
            "100\n",
            "500\n"
          ]
        }
      ]
    },
    {
      "cell_type": "markdown",
      "source": [
        "\n",
        "\n",
        "*  **Dynamic Sizing:**\n",
        "However, Python lists are dynamically sized so you don't have to specify a size when creating one. You can increase or decrease lists as items are added or removed."
      ],
      "metadata": {
        "id": "Hm0ygL_WIegq"
      }
    },
    {
      "cell_type": "code",
      "source": [
        "# Dynamic Sizing\n",
        "\n",
        "my_list = [1, 2, 3]\n",
        "my_list.append(4)  # Adds 4 to the list\n",
        "print(my_list)  # Output: [1, 2, 3, 4]\n",
        "my_list.remove(3)\n",
        "print(my_list)   # Output: [1, 2, 4]\n"
      ],
      "metadata": {
        "colab": {
          "base_uri": "https://localhost:8080/"
        },
        "id": "PyMp98kBIqpR",
        "outputId": "b064aa29-bd62-4840-a22c-b5b28b0c6062"
      },
      "execution_count": null,
      "outputs": [
        {
          "output_type": "stream",
          "name": "stdout",
          "text": [
            "[1, 2, 3, 4]\n",
            "[1, 2, 4]\n"
          ]
        }
      ]
    },
    {
      "cell_type": "markdown",
      "source": [
        "\n",
        "\n",
        "* **Allows Duplicates:**\n",
        "Lists can contain duplicate elements. Unlike sets (which do not allow duplicates), lists can store multiple occurrences of the same element."
      ],
      "metadata": {
        "id": "Q3V6z_TZJQOa"
      }
    },
    {
      "cell_type": "code",
      "source": [
        "# Allows Duplicates:\n",
        "\n",
        "my_list = [14, 45, 56, 14]\n",
        "print(my_list)"
      ],
      "metadata": {
        "colab": {
          "base_uri": "https://localhost:8080/"
        },
        "id": "Q_7tzQ3uJqWp",
        "outputId": "75274bdf-fb8f-49ef-f338-126da10af27d"
      },
      "execution_count": null,
      "outputs": [
        {
          "output_type": "stream",
          "name": "stdout",
          "text": [
            "[14, 45, 56, 14]\n"
          ]
        }
      ]
    },
    {
      "cell_type": "markdown",
      "source": [
        "\n",
        "\n",
        "*   **Supports Slicing:**\n",
        "Like Strings, lists also support slicing, which allows you to extract a part of the list using a specific range of indices."
      ],
      "metadata": {
        "id": "So5m6B6nJ-OS"
      }
    },
    {
      "cell_type": "code",
      "source": [
        "# Supports Slicing:\n",
        "\n",
        "my_list = [10, 20, 30, 40, 50]\n",
        "sub_list = my_list[1:4]  # Extracts elements from index 1 to 3 (exclusive of index 4)\n",
        "print(sub_list)  # Output: [20, 30, 40]"
      ],
      "metadata": {
        "colab": {
          "base_uri": "https://localhost:8080/"
        },
        "id": "-MkD1HReKEti",
        "outputId": "d76e3bcb-de82-4741-c827-9b6d907f61c2"
      },
      "execution_count": null,
      "outputs": [
        {
          "output_type": "stream",
          "name": "stdout",
          "text": [
            "[20, 30, 40]\n"
          ]
        }
      ]
    },
    {
      "cell_type": "markdown",
      "source": [
        "\n",
        "\n",
        "*  **Various Built-in Methods:**Python lists come with a huge number of built-in methods, allowing you to add, remove elements from the list, and search for elements within it.\n",
        "Example practices:\n",
        "1.   append(x)    – Adds element x at the end of the list.\n",
        "2.   insert(i, x) – inserts element x at index i.\n",
        "3. delete(x)      – It deletes the first occurrence of x in the list.\n",
        "4. pop(i) – It removes and returns the element at index i.\n",
        "5. reverse() – reverses the items of a list in place.\n",
        "6. sort() – Sorts the elements of the list in ascending order."
      ],
      "metadata": {
        "id": "Y0ka8VR_K9UY"
      }
    },
    {
      "cell_type": "markdown",
      "source": [
        "\n",
        "\n",
        "*   **Can Contain Other Lists (Nested Lists):**\n",
        "Lists can contain other lists, which are known as nested lists. It's like lists within lists, which creates multi-dimensional structures like matrices."
      ],
      "metadata": {
        "id": "CLFZIMDYMlj5"
      }
    },
    {
      "cell_type": "code",
      "source": [
        "# Nested Lists:\n",
        "\n",
        "my_list = [[1, 2], [3, 4], [5, 6]]\n",
        "print(my_list[0])\n",
        "print(my_list[1][1])  # Gives element at index 1 of list which is at index 1 of my_list list.\n"
      ],
      "metadata": {
        "colab": {
          "base_uri": "https://localhost:8080/"
        },
        "id": "A4Tn96-aM9-Y",
        "outputId": "6200d076-e266-476c-d9f0-d1cadf72909e"
      },
      "execution_count": null,
      "outputs": [
        {
          "output_type": "stream",
          "name": "stdout",
          "text": [
            "[1, 2]\n",
            "4\n"
          ]
        }
      ]
    },
    {
      "cell_type": "markdown",
      "source": [
        "\n",
        "\n",
        "*   **List Comprehensions:**\n",
        "One of the important features of Python lists is it support list comprehensions, the shortest way to generate lists based on other lists or any other iterable. These make operations like filtering and transformation of data simpler."
      ],
      "metadata": {
        "id": "aWLrkiKgNuU5"
      }
    },
    {
      "cell_type": "code",
      "source": [
        "#  List Comprehensions:\n",
        "\n",
        "my_list = [1, 2, 3, 4, 5]\n",
        "squared_list = [x**2 for x in my_list]  # Squaring each element\n",
        "print(squared_list)"
      ],
      "metadata": {
        "colab": {
          "base_uri": "https://localhost:8080/"
        },
        "id": "uQco76gjOB8x",
        "outputId": "0f383b0e-9685-4759-f3e6-980830b2f78d"
      },
      "execution_count": null,
      "outputs": [
        {
          "output_type": "stream",
          "name": "stdout",
          "text": [
            "[1, 4, 9, 16, 25]\n"
          ]
        }
      ]
    },
    {
      "cell_type": "markdown",
      "source": [
        "\n",
        "\n",
        "*   **Iteration Support:**\n",
        "Lists are iterable, meaning you can loop through the elements using a for loop."
      ],
      "metadata": {
        "id": "a1T2VYgJPA6Q"
      }
    },
    {
      "cell_type": "code",
      "source": [
        "# Iterable:\n",
        "\n",
        "my_list = [\"apple\", \"banana\", \"cherry\"]\n",
        "for fruit in my_list:\n",
        "    print(fruit)"
      ],
      "metadata": {
        "colab": {
          "base_uri": "https://localhost:8080/"
        },
        "id": "8f-ncrOPPGow",
        "outputId": "a503360e-27c4-4f43-8f6a-1d80bf5fbf1b"
      },
      "execution_count": null,
      "outputs": [
        {
          "output_type": "stream",
          "name": "stdout",
          "text": [
            "apple\n",
            "banana\n",
            "cherry\n"
          ]
        }
      ]
    },
    {
      "cell_type": "markdown",
      "source": [
        "So, Lists in Python are extremely flexible and thus are very popular in any programming language. They are ordered, mutable, and they can store elements of any data type. They are appropriate for many tasks involving collections of data because of the use of some built-in methods or support slicing and list comprehensions."
      ],
      "metadata": {
        "id": "fGVOBRsxPuOP"
      }
    },
    {
      "cell_type": "markdown",
      "source": [
        "**Q3. Describe how to access, modify, and delete elements in a list with examples.**"
      ],
      "metadata": {
        "id": "M7vBmeCFQA-2"
      }
    },
    {
      "cell_type": "markdown",
      "source": [
        "**Ans:** A list in Python is actually an ordered collection of items that are changeable; meaning you can access, modify as well as delete elements within them. Given below the way on how to do each:\n",
        "\n",
        "1. **Accessing Elements in a List:** You can access items in a list through their index. Python lists are 0-indexed, meaning that the first element has index 0."
      ],
      "metadata": {
        "id": "SbBOJQfeQOyP"
      }
    },
    {
      "cell_type": "code",
      "source": [
        "# Accessing Elements in a List:\n",
        "\n",
        "my_list = ['apple', 'banana', 'cherry']\n",
        "\n",
        "# Accessing elements by index\n",
        "print(my_list[0])\n",
        "print(my_list[1])\n",
        "print(my_list[-1])"
      ],
      "metadata": {
        "colab": {
          "base_uri": "https://localhost:8080/"
        },
        "id": "rfIIsdOehA74",
        "outputId": "99a30ed2-2214-4d70-fd2b-71d6ef65e71f"
      },
      "execution_count": 1,
      "outputs": [
        {
          "output_type": "stream",
          "name": "stdout",
          "text": [
            "apple\n",
            "banana\n",
            "cherry\n"
          ]
        }
      ]
    },
    {
      "cell_type": "markdown",
      "source": [
        "2. **Modifying Elements in a List:**\n",
        "To modify an element, you assign a new value to an existing index."
      ],
      "metadata": {
        "id": "USdb2gR_hUU1"
      }
    },
    {
      "cell_type": "code",
      "source": [
        "# Modifying Elements in a List:\n",
        "\n",
        "my_list = ['apple', 'banana', 'cherry']\n",
        "\n",
        "# Modifying an element at index 1\n",
        "my_list[1] = 'blueberry'\n",
        "print(my_list)\n",
        "\n",
        "# Modifying the last element using a negative index\n",
        "my_list[-1] = 'grape'\n",
        "print(my_list)"
      ],
      "metadata": {
        "colab": {
          "base_uri": "https://localhost:8080/"
        },
        "id": "Yp5neUgIhcIa",
        "outputId": "d56eae92-9e5f-4273-ea2a-12c0162f18ad"
      },
      "execution_count": 2,
      "outputs": [
        {
          "output_type": "stream",
          "name": "stdout",
          "text": [
            "['apple', 'blueberry', 'cherry']\n",
            "['apple', 'blueberry', 'grape']\n"
          ]
        }
      ]
    },
    {
      "cell_type": "markdown",
      "source": [
        "3. **Deleting Elements from a List:**\n",
        "You can use either the **del** statement, **remove()** method, or **pop()** method when deleting elements of a list, really just depending on how you want to identify the element to delete. Let's see each of these methods in code:"
      ],
      "metadata": {
        "id": "WqHMwP7GiEMn"
      }
    },
    {
      "cell_type": "code",
      "source": [
        "# a) Using del:\n",
        "# The del statement can remove an element by its index.\n",
        "\n",
        "my_list = ['apple', 'banana', 'cherry']\n",
        "\n",
        "# Deleting the element at index 1 (banana)\n",
        "del my_list[1]\n",
        "print(\"Using del output:\")\n",
        "print(my_list)\n",
        "\n",
        "print('\\n')\n",
        "\n",
        "# b) Using remove():\n",
        "# The remove() method removes the first occurrence of a specific value.\n",
        "\n",
        "my_list = ['apple', 'banana', 'cherry', 'banana']\n",
        "\n",
        "# Removing the element with value 'banana' at index 1(first occurence)\n",
        "my_list.remove('banana')\n",
        "print(\"Using remove output:\")\n",
        "print(my_list)\n",
        "\n",
        "print('\\n')\n",
        "\n",
        "# c) Using pop():\n",
        "# The pop() method removes an element at a specified index and returns it. If no index is provided, it removes and returns the last element.\n",
        "\n",
        "my_list = ['apple', 'banana', 'cherry']\n",
        "\n",
        "# Popping the last element (cherry)\n",
        "last_item = my_list.pop()\n",
        "print(\"Using pop output:\")\n",
        "print(\"Popping the last element:\")\n",
        "print(my_list)\n",
        "print('Popped item:', last_item)\n",
        "\n",
        "# Popping an element at a specific index (index 0 - apple)\n",
        "first_item = my_list.pop(0)\n",
        "print(\"Popping the element at specific index:\")\n",
        "print(my_list)\n",
        "print('Popped item:', first_item)\n"
      ],
      "metadata": {
        "colab": {
          "base_uri": "https://localhost:8080/"
        },
        "id": "tQl6IexHiP_N",
        "outputId": "d80cc88d-747a-4f82-e169-b85a847fcf32"
      },
      "execution_count": 4,
      "outputs": [
        {
          "output_type": "stream",
          "name": "stdout",
          "text": [
            "Using del output:\n",
            "['apple', 'cherry']\n",
            "\n",
            "\n",
            "Using remove output:\n",
            "['apple', 'cherry', 'banana']\n",
            "\n",
            "\n",
            "Using pop output:\n",
            "Popping the last element:\n",
            "['apple', 'banana']\n",
            "Popped item: cherry\n",
            "Popping the element at specific index:\n",
            "['banana']\n",
            "Popped item: apple\n"
          ]
        }
      ]
    },
    {
      "cell_type": "markdown",
      "source": [
        "So, in simple words, we can say that\n",
        "\n",
        "*   **Access:** Use indexing (list[index]) or negative indexing (list[-index]).\n",
        "*  **Modify:** Assign a new value to a specific index (list[index] = new_value).\n",
        "*  **Delete:** Use del list[index], list.remove(value), or list.pop(index).\n",
        "\n",
        "Each method provides flexibility depending on your needs."
      ],
      "metadata": {
        "id": "KY5HRQykouvE"
      }
    },
    {
      "cell_type": "markdown",
      "source": [
        "**Q4. Compare and contrast tuples and lists with examples.**"
      ],
      "metadata": {
        "id": "7QTz7KslpSUr"
      }
    },
    {
      "cell_type": "markdown",
      "source": [
        "**Ans:** **Tuples vs Lists in Python:**\n",
        "The collection of data can be stored in tuples and lists in Python; however, they are very much different from each other concerning ***mutability***, ***performance***, and ***syntax***.\n",
        "\n",
        "1. **Mutability:**\n",
        "*   Lists are mutable that mrans their elements can be updated after they have been declared.\n",
        "*   Tuples are immutable; this means once created, their elements cannot be modified, added to, or removed."
      ],
      "metadata": {
        "id": "jK8pSKvfqs6d"
      }
    },
    {
      "cell_type": "code",
      "source": [
        "# Example:\n",
        "\n",
        "# List (mutable)\n",
        "my_list = [1, 2, 3]\n",
        "my_list[0] = 10  # Changing the first element\n",
        "print(my_list)   # Output: [10, 2, 3]\n",
        "\n",
        "# Tuple (immutable)\n",
        "my_tuple = (1, 2, 3)\n",
        "my_tuple[0] = 10  # This will raise a \"TypeError\""
      ],
      "metadata": {
        "id": "MyCRNZoyr9ey"
      },
      "execution_count": null,
      "outputs": []
    },
    {
      "cell_type": "markdown",
      "source": [
        "2. **Syntax:**\n",
        "*   Lists are created using square brackets [].\n",
        "*   Tuples are created using parentheses ()."
      ],
      "metadata": {
        "id": "TciT6npxsKpz"
      }
    },
    {
      "cell_type": "code",
      "source": [
        "# List\n",
        "my_list = [1, 2, 3]\n",
        "\n",
        "# Tuple\n",
        "my_tuple = (1, 2, 3)"
      ],
      "metadata": {
        "id": "wyMnb0RGsb-L"
      },
      "execution_count": 7,
      "outputs": []
    },
    {
      "cell_type": "markdown",
      "source": [
        "3. **Performance:**\n",
        "\n",
        "\n",
        "* Tuples are typically faster for iteration and access in part because tuples are immutable, allowing the Python runtime to optimize better how it uses memory.\n",
        "*   Lists have high overhead because they are mutable, and hence, any operations that involve lists might run slower."
      ],
      "metadata": {
        "id": "GyHh_xppskL2"
      }
    },
    {
      "cell_type": "code",
      "source": [
        "# Example:\n",
        "\n",
        "import time\n",
        "\n",
        "# Create a large list and tuple\n",
        "large_list = [i for i in range(1000000)]\n",
        "large_tuple = tuple(large_list)\n",
        "\n",
        "# Time access\n",
        "start = time.time()\n",
        "for i in large_list:\n",
        "    pass\n",
        "    l = time.time() - start\n",
        "print(\"List time:\", l)\n",
        "\n",
        "start = time.time()\n",
        "for i in large_tuple:\n",
        "    pass\n",
        "    t = time.time() - start\n",
        "print(\"Tuple time:\", t )\n",
        "\n",
        "if l > t:\n",
        "  print(\"List takes more time than tuples, hence proved.\")\n"
      ],
      "metadata": {
        "colab": {
          "base_uri": "https://localhost:8080/"
        },
        "id": "fDDNXx-1tBoq",
        "outputId": "8360826c-cb15-4b3c-b038-cd9fe3671d77"
      },
      "execution_count": 11,
      "outputs": [
        {
          "output_type": "stream",
          "name": "stdout",
          "text": [
            "List time: 0.21346569061279297\n",
            "Tuple time: 0.19289731979370117\n",
            "List takes more time than tuples, hence proved.\n"
          ]
        }
      ]
    },
    {
      "cell_type": "markdown",
      "source": [
        "4. **Methods:**\n",
        "\n",
        "\n",
        "*   Lists have many built-in methods that allow modification, such as .append(), .extend(), .remove(), .pop(), and .sort().\n",
        "*  Tuples have very few methods, mostly focused on querying, such as .count() and .index(). There are no methods for adding or removing elements."
      ],
      "metadata": {
        "id": "WeZHlkmIwSIi"
      }
    },
    {
      "cell_type": "code",
      "source": [
        "# Example:\n",
        "\n",
        "# List methods\n",
        "my_list = [1, 2, 3]\n",
        "my_list.append(4)  # Adds an element\n",
        "print(my_list)\n",
        "\n",
        "# Tuple methods\n",
        "my_tuple = (1, 2, 3, 2)\n",
        "print(my_tuple.count(2))  # (counts occurrences of 2)\n",
        "print(my_tuple.index(3))  # (finds the first occurrence of 3)\n"
      ],
      "metadata": {
        "colab": {
          "base_uri": "https://localhost:8080/"
        },
        "id": "f8lwnHoXwhy0",
        "outputId": "0e70ce45-95ad-431b-af74-ec8ca3c4596c"
      },
      "execution_count": 13,
      "outputs": [
        {
          "output_type": "stream",
          "name": "stdout",
          "text": [
            "[1, 2, 3, 4]\n",
            "2\n",
            "2\n"
          ]
        }
      ]
    },
    {
      "cell_type": "markdown",
      "source": [
        "5. **Use Cases:**\n",
        "\n",
        "\n",
        "*   The list is likely to be convenient in case the data is constantly being added or removed or updated.\n",
        "*   Tuples are ideal when data should not be modified. Therefore, they provide another kind of protection against unintended changes: they can be used as keys in dictionaries because they are hashable.\n"
      ],
      "metadata": {
        "id": "bsql3uzIw1HD"
      }
    },
    {
      "cell_type": "code",
      "source": [
        "# List use case: Storing a growing list of values\n",
        "my_list = []\n",
        "my_list.append(10)\n",
        "my_list.append(20)\n",
        "\n",
        "# Tuple use case: Fixed collection of values (e.g., coordinates)\n",
        "coordinates = (40.7128, 74.0060)  # Latitude and Longitude"
      ],
      "metadata": {
        "id": "Ih4IeIlAxKIl"
      },
      "execution_count": 14,
      "outputs": []
    },
    {
      "cell_type": "markdown",
      "source": [
        "6. **Nested Structures:**\n",
        "Lists and tuples can be composed of other lists or tuples. However, the list is mutable, so a sublist may indeed be altered if created; a tuple's inner lists or tuples, however, will remain immutable."
      ],
      "metadata": {
        "id": "Rrr-zqQmxZIF"
      }
    },
    {
      "cell_type": "code",
      "source": [
        "# Example:\n",
        "\n",
        "# Nested List\n",
        "nested_list = [[1, 2], [3, 4]]\n",
        "nested_list[0][0] = 10 # Modify inner list\n",
        "print(nested_list)  # Output: [[10, 2], [3, 4]]\n",
        "\n",
        "# Nested Tuple\n",
        "nested_tuple = ((1, 2), (3, 4))\n",
        "nested_tuple[0][0] = 10  # This will raise a \"TypeError\""
      ],
      "metadata": {
        "id": "CyH6a_DwxvgD"
      },
      "execution_count": null,
      "outputs": []
    },
    {
      "cell_type": "markdown",
      "source": [
        "7. **Memory Efficiency:**\n",
        "Tuples require much less space in memory because they cannot be modified. Python may further improve the storage about tuples in memory, taking into consideration the optimization for massive collections."
      ],
      "metadata": {
        "id": "g8YKwqPRyAxL"
      }
    },
    {
      "cell_type": "code",
      "source": [
        "# Example:\n",
        "\n",
        "import sys\n",
        "# Memory size of list vs tuple\n",
        "my_list = [1, 2, 3]\n",
        "my_tuple = (1, 2, 3)\n",
        "\n",
        "a = sys.getsizeof(my_list)\n",
        "b = sys.getsizeof(my_tuple)\n",
        "print(\"a=\", a, \"b=\", b)\n",
        "if a > b:\n",
        "  print(\"List takes more memory than tuples.hence proved.\")"
      ],
      "metadata": {
        "colab": {
          "base_uri": "https://localhost:8080/"
        },
        "id": "nRYqwWX6yr68",
        "outputId": "37c105fc-6d5e-451d-ff96-58eb14d5e129"
      },
      "execution_count": 17,
      "outputs": [
        {
          "output_type": "stream",
          "name": "stdout",
          "text": [
            "a= 88 b= 64\n",
            "List takes more memory than tuples.hence proved.\n"
          ]
        }
      ]
    },
    {
      "cell_type": "markdown",
      "source": [
        "Summarily, use lists when you need an aggregation of objects that are likely to change over time. And in case you need constant data but higher performance or more efficient memory usage, use tuples."
      ],
      "metadata": {
        "id": "aV_ccpDW3Kez"
      }
    },
    {
      "cell_type": "markdown",
      "source": [
        "**Q5. Describe the key features of sets and provide examples of their use.**"
      ],
      "metadata": {
        "id": "_VOf2i1W3SaF"
      }
    },
    {
      "cell_type": "markdown",
      "source": [
        "**Ans:** A **set** in Python is an **unordered** collection of unique items. They are most useful for applications where it matters whether an item is in the collection or not, but its order or how many times an item appears does not matter. They are like lists or dictionaries, but they differ in some very important ways.\n",
        "\n",
        "**Key Features of Sets:**\n",
        "\n",
        "\n",
        "*  ***Unordered:*** There is no order among the elements in a set. It is also possible that the order of the elements changes each time that you pass through a set.\n",
        "*  ***Unique Features:*** A Set removes automatically the duplicated elements. There is no way you include a duplicated element in the set.\n",
        "\n",
        "\n",
        "*   ***Mutable:*** Sets are mutable; that is, you can add elements or take away elements after it is created.\n",
        "*   ***No Indexing:*** You cannot access element of a set by index, just like you have done with lists. Sets are unordered so it makes no sense to refer to elements by their position.\n",
        "\n",
        "\n",
        "*   ***Set Operations:*** Sets support mathematical set operations, such as union, intersection, difference, and symmetric difference.\n",
        "*   ***Hashable:*** All elements of a collection should be immutable, or hashable. It's perfectly good to keep numbers, strings, and tuples but not lists or dictionaries.\n",
        "\n",
        "**Creating a set:** We can create a set by using curly brackets or by using **set()** constructor by passing an iterable (like a list or string) to it.\n",
        "**Syntax:**\n",
        "\n",
        "                   set_name = {elements}\n",
        "                            or\n",
        "                    set_name = set(list or string)   \n",
        "**Key Set Operations:**  Given below are different set operations on set in code example:                   "
      ],
      "metadata": {
        "id": "iCfEkK5a3ZO8"
      }
    },
    {
      "cell_type": "code",
      "source": [
        "# 1. Adding Elements: You can add elements to a set using the add() method.\n",
        "my_set = {1, 2, 3}\n",
        "my_set.add(4)  # Add a single element\n",
        "print(\"1. Addinng elements output:\")\n",
        "print(my_set)\n",
        "\n",
        "print(\"\\n\")\n",
        "\n",
        "# 2. Removing Elements: You can remove elements with remove() or discard(). The difference is that remove() raises a KeyError if the element is not found, while discard() does not.\n",
        "my_set = {1, 2, 3, 4}\n",
        "my_set.remove(3)  # Removes 3 from the set\n",
        "print(\"2. Removing Elements output:\\n by using remove():\")\n",
        "print(my_set)\n",
        "print(\"by using discard():\\n prints nothing as 5 is not in the set\")\n",
        "my_set.discard(5)  # Does nothing since 5 is not in the set\n",
        "\n",
        "print(\"\\n\")\n",
        "\n",
        "# 3. Set Union: You can combine two sets using the | operator or union() method.\n",
        "set_a = {1, 2, 3}\n",
        "set_b = {3, 4, 5}\n",
        "union_set = set_a | set_b  # Or set_a.union(set_b)\n",
        "print(\"3. Set union otput:\")\n",
        "print(union_set)\n",
        "\n",
        "print(\"\\n\")\n",
        "\n",
        "# 4. Set Intersection: To get the common elements between two sets, you can use the & operator or intersection() method.\n",
        "intersection_set = set_a & set_b  # Or set_a.intersection(set_b)\n",
        "print(\"4. Set intersection output:\")\n",
        "print(intersection_set)\n",
        "\n",
        "print(\"\\n\")\n",
        "\n",
        "# 5. Set Difference: To find elements that are in one set but not the other, use the - operator or difference() method.\n",
        "difference_set = set_a - set_b  # Or set_a.difference(set_b)\n",
        "print(\"5. Set difference output:\")\n",
        "print(difference_set)\n",
        "\n",
        "print(\"\\n\")\n",
        "\n",
        "# 6. Symmetric Difference: To find elements that are in either of the sets but not in both, use the ^ operator or symmetric_difference() method.\n",
        "symmetric_diff_set = set_a ^ set_b  # Or set_a.symmetric_difference(set_b)\n",
        "print(\"6. Symmetric difference output:\")\n",
        "print(symmetric_diff_set)\n",
        "\n",
        "print(\"\\n\")\n",
        "\n",
        "# 7. Subset and Superset: You can check if one set is a subset or superset of another using issubset() and issuperset() methods.\n",
        "set_a = {1, 2, 3}\n",
        "set_b = {1, 2, 3, 4, 5}\n",
        "\n",
        "print(\"7. Subset and Superset output:\")\n",
        "print(set_a.issubset(set_b))\n",
        "print(set_b.issuperset(set_a))"
      ],
      "metadata": {
        "colab": {
          "base_uri": "https://localhost:8080/"
        },
        "id": "TEvOMbt28XLB",
        "outputId": "86df8b92-a25f-4002-9a52-10c885b6080a"
      },
      "execution_count": 25,
      "outputs": [
        {
          "output_type": "stream",
          "name": "stdout",
          "text": [
            "1. Addinng elements output:\n",
            "{1, 2, 3, 4}\n",
            "\n",
            "\n",
            "2. Removing Elements output:\n",
            " by using remove():\n",
            "{1, 2, 4}\n",
            "by using discard():\n",
            " prints nothing as 5 is not in the set\n",
            "\n",
            "\n",
            "3. Set union otput:\n",
            "{1, 2, 3, 4, 5}\n",
            "\n",
            "\n",
            "4. Set intersection output:\n",
            "{3}\n",
            "\n",
            "\n",
            "5. Set difference output:\n",
            "{1, 2}\n",
            "\n",
            "\n",
            "6. Symmetric difference output:\n",
            "{1, 2, 4, 5}\n",
            "\n",
            "\n",
            "7. Subset and Superset output:\n",
            "True\n",
            "True\n"
          ]
        }
      ]
    },
    {
      "cell_type": "markdown",
      "source": [
        "**Set Comprehensions:**\n",
        "Like list comprehensions, Python supports set comprehensions for creating sets in a concise way."
      ],
      "metadata": {
        "id": "t74b-EiBB0hA"
      }
    },
    {
      "cell_type": "code",
      "source": [
        "# Set comprehension example\n",
        "squares = {x ** 2 for x in range(6)}\n",
        "print(squares)  # Output: {0, 1, 4, 9, 16, 25}"
      ],
      "metadata": {
        "colab": {
          "base_uri": "https://localhost:8080/"
        },
        "id": "mOnPgKSHB8pm",
        "outputId": "8a288bb6-4595-46d8-ac6d-e37d92039992"
      },
      "execution_count": 24,
      "outputs": [
        {
          "output_type": "stream",
          "name": "stdout",
          "text": [
            "{0, 1, 4, 9, 16, 25}\n"
          ]
        }
      ]
    },
    {
      "cell_type": "code",
      "source": [
        "# EXAMPLES OF USING SETS:\n",
        "\n",
        "# Remove duplicates from a list\n",
        "my_list = [1, 2, 3, 3, 4, 5, 5, 6]\n",
        "my_set = set(my_list)  # Converts list to set and removes duplicates\n",
        "print(my_set)  # Output: {1, 2, 3, 4, 5, 6}\n",
        "\n",
        "# Set operations example\n",
        "even_numbers = {2, 4, 6, 8}\n",
        "odd_numbers = {1, 3, 5, 7}\n",
        "\n",
        "# Union\n",
        "all_numbers = even_numbers | odd_numbers\n",
        "print(all_numbers)  # Output: {1, 2, 3, 4, 5, 6, 7, 8}\n",
        "\n",
        "# Intersection\n",
        "common_numbers = even_numbers & odd_numbers\n",
        "print(common_numbers)  # Output: set() (no common elements)\n",
        "\n",
        "# Difference\n",
        "even_not_odd = even_numbers - odd_numbers\n",
        "print(even_not_odd)  # Output: {2, 4, 6, 8}"
      ],
      "metadata": {
        "colab": {
          "base_uri": "https://localhost:8080/"
        },
        "id": "r7sROE_pC99X",
        "outputId": "afa0750f-ea68-4e8e-8fec-2f4b25206c07"
      },
      "execution_count": 26,
      "outputs": [
        {
          "output_type": "stream",
          "name": "stdout",
          "text": [
            "{1, 2, 3, 4, 5, 6}\n",
            "{1, 2, 3, 4, 5, 6, 7, 8}\n",
            "set()\n",
            "{8, 2, 4, 6}\n"
          ]
        }
      ]
    },
    {
      "cell_type": "markdown",
      "source": [
        "So, basically Sets are a useful data structure in Python when you need something that can do uniqueness, membership tests, or mathematical set operations. The powerful tools they provide make them helpful for removing duplicates, checking membership, and doing operations on collections of data, such as finding an intersection or union."
      ],
      "metadata": {
        "id": "gjI_Grx6DI5p"
      }
    },
    {
      "cell_type": "markdown",
      "source": [
        "**Q6. Discuss the use cases of tuples and sets in Python programming.**"
      ],
      "metadata": {
        "id": "u2tD2GwVDZZ-"
      }
    },
    {
      "cell_type": "markdown",
      "source": [
        "**Ans:** Tuples and sets are two of the basic data structures in Python. They work differently and for different purposes because of their distinct features. Let's look at the best times to use each one:\n",
        "\n",
        "**Use Cases of Tuples:**\n",
        "1. ***Immutable Data Storage***:\n",
        "* Tuples are not updatable. Once you create them, you cannot change the elements they consist of. You may neither reorder, nor insert or remove elements.\n",
        "* This makes them great for keeping fixed collections of data that should not be changed, ensuring the data remains accurate.\n",
        "* Use case example: Suppose you want a function to return more than one value or to have a fixed configuration-for example, a point in 2D space."
      ],
      "metadata": {
        "id": "rGSzRMBnHsb2"
      }
    },
    {
      "cell_type": "code",
      "source": [
        "# Example:\n",
        "def get_coordinates():\n",
        "    return (10, 20)  # A fixed coordinate point\n",
        "x, y = get_coordinates()\n",
        "print(x, y)  # Output: 10 20"
      ],
      "metadata": {
        "colab": {
          "base_uri": "https://localhost:8080/"
        },
        "id": "6UOffDi7UR6k",
        "outputId": "6b2dbbe1-b64b-49c0-e9ec-3852a000de2f"
      },
      "execution_count": 27,
      "outputs": [
        {
          "output_type": "stream",
          "name": "stdout",
          "text": [
            "10 20\n"
          ]
        }
      ]
    },
    {
      "cell_type": "markdown",
      "source": [
        "2. ***As Dictionary Keys:***\n",
        "* Tuples are hashable and can be used as keys in dictionaries, unlike lists, which are mutable and unhashable.\n",
        "* When you need to use compound keys in a dictionary (i.e., keys that are combinations of several elements), tuples are a natural choice."
      ],
      "metadata": {
        "id": "cFpJaSa5UckN"
      }
    },
    {
      "cell_type": "code",
      "source": [
        "# Using tuples as dictionary keys\n",
        "location_data = {\n",
        "    (10, 20): \"Location A\",\n",
        "    (30, 40): \"Location B\"\n",
        "}\n",
        "print(location_data[(10, 20)])  # Output: Location A"
      ],
      "metadata": {
        "colab": {
          "base_uri": "https://localhost:8080/"
        },
        "id": "IdEAs23VU2Nu",
        "outputId": "8107bd0a-5f51-4d0c-df1e-fc2c5888a9d2"
      },
      "execution_count": 28,
      "outputs": [
        {
          "output_type": "stream",
          "name": "stdout",
          "text": [
            "Location A\n"
          ]
        }
      ]
    },
    {
      "cell_type": "markdown",
      "source": [
        "3. ***Packing and unpacking multiple values:***\n",
        "* Tuples are an easy way to put several values into one variable and take them out later.\n",
        "* Use case: Returning several values from functions, or when you need to handle a great number of values in an organized way."
      ],
      "metadata": {
        "id": "II9DPgFSVDz5"
      }
    },
    {
      "cell_type": "code",
      "source": [
        "# Tuple packing and unpacking\n",
        "person = (\"Alice\", 30, \"Engineer\")  # Packing\n",
        "name, age, occupation = person  # Unpacking\n",
        "print(name, age, occupation)  # Output: Alice 30 Engineer"
      ],
      "metadata": {
        "colab": {
          "base_uri": "https://localhost:8080/"
        },
        "id": "Tjt5DbriVJkZ",
        "outputId": "2e36a1e7-19f6-4972-ebb5-140d5b1638b9"
      },
      "execution_count": 29,
      "outputs": [
        {
          "output_type": "stream",
          "name": "stdout",
          "text": [
            "Alice 30 Engineer\n"
          ]
        }
      ]
    },
    {
      "cell_type": "markdown",
      "source": [
        "4. ***Storing Heterogeneous Data:***\n",
        "A tuple can store a collection of heterogeneous (different) types. This is useful for representing data that belongs together but is of different types."
      ],
      "metadata": {
        "id": "_tP7xJQ7VRon"
      }
    },
    {
      "cell_type": "code",
      "source": [
        "# Storing heterogeneous data in a tuple\n",
        "employee = (\"John\", 1001, \"HR\", 55000)"
      ],
      "metadata": {
        "id": "3cCNUh_8VVMk"
      },
      "execution_count": 30,
      "outputs": []
    },
    {
      "cell_type": "markdown",
      "source": [
        "5. ***Using memory effectively:***\n",
        "Tuples usually take up less memory than lists. If you need a group of items but don’t need to change them, using a tuple is better for saving memory than using a list.\n",
        "\n"
      ],
      "metadata": {
        "id": "e2F2Owr1VYE9"
      }
    },
    {
      "cell_type": "code",
      "source": [
        "# Tuple vs List memory usage\n",
        "import sys\n",
        "my_tuple = (1, 2, 3, 4)\n",
        "my_list = [1, 2, 3, 4]\n",
        "print(sys.getsizeof(my_tuple))  # Typically smaller than list\n",
        "print(sys.getsizeof(my_list))"
      ],
      "metadata": {
        "colab": {
          "base_uri": "https://localhost:8080/"
        },
        "id": "bjglc_IDVk7c",
        "outputId": "3edefc6e-648c-44fb-d539-c91e50eb5411"
      },
      "execution_count": 31,
      "outputs": [
        {
          "output_type": "stream",
          "name": "stdout",
          "text": [
            "72\n",
            "88\n"
          ]
        }
      ]
    },
    {
      "cell_type": "markdown",
      "source": [
        "6. ***As Members of Sets:***\n",
        "Tuples cannot be changed and are hashable so they can be put inside a set. It is super useful when you need to store unique sets of ordered elements inside a set, for example, coordinates or any other composite objects."
      ],
      "metadata": {
        "id": "uQ3rE2BsVohl"
      }
    },
    {
      "cell_type": "code",
      "source": [
        "# Using tuples as elements in a set\n",
        "points = {(1, 2), (3, 4), (5, 6)}  # Set of coordinate tuples\n",
        "print(points)  # Output: {(1, 2), (3, 4), (5, 6)}"
      ],
      "metadata": {
        "colab": {
          "base_uri": "https://localhost:8080/"
        },
        "id": "t7IIFINbV26_",
        "outputId": "3b9b15b3-aa8b-4d3e-dd16-4e3d5ef9a007"
      },
      "execution_count": 32,
      "outputs": [
        {
          "output_type": "stream",
          "name": "stdout",
          "text": [
            "{(1, 2), (3, 4), (5, 6)}\n"
          ]
        }
      ]
    },
    {
      "cell_type": "markdown",
      "source": [
        "**Use Cases of Sets:**\n",
        "1. ***Eliminating Duplicate Data:***\n",
        "* A set automatically removes duplicates, making it an excellent tool for ensuring uniqueness in a collection of data.\n",
        "* **Use case**: Removing duplicate entries from a list."
      ],
      "metadata": {
        "id": "ddlPxNsmV6CF"
      }
    },
    {
      "cell_type": "code",
      "source": [
        "# Removing duplicates from a list\n",
        "data = [1, 2, 3, 4, 4, 5, 5, 6]\n",
        "unique_data = set(data)\n",
        "print(unique_data)  # Output: {1, 2, 3, 4, 5, 6}"
      ],
      "metadata": {
        "colab": {
          "base_uri": "https://localhost:8080/"
        },
        "id": "VX23Rm1EWWNN",
        "outputId": "195af186-d599-4473-9048-39ba0513536a"
      },
      "execution_count": 33,
      "outputs": [
        {
          "output_type": "stream",
          "name": "stdout",
          "text": [
            "{1, 2, 3, 4, 5, 6}\n"
          ]
        }
      ]
    },
    {
      "cell_type": "markdown",
      "source": [
        "2. ***Membership Tests:***\n",
        "* Sets permit a rapid verification to determine if something is in a set. The verification typically is O(1) average time which much faster than for lists on the equivalent verification which takes O(n) average time.\n",
        "* **Use case**: Quickly check whether something is in a group, such as checking if some item is on a blacklist or if some value belongs to a big set of data."
      ],
      "metadata": {
        "id": "3FXOzGc3WZY2"
      }
    },
    {
      "cell_type": "code",
      "source": [
        "# Fast membership test\n",
        "allowed_numbers = {1, 2, 3, 4, 5}\n",
        "print(3 in allowed_numbers)  # Output: True\n",
        "print(6 in allowed_numbers)  # Output: False"
      ],
      "metadata": {
        "colab": {
          "base_uri": "https://localhost:8080/"
        },
        "id": "1MQ3sVUkWxGL",
        "outputId": "7de7b239-317e-406c-8aef-5a674a401766"
      },
      "execution_count": 34,
      "outputs": [
        {
          "output_type": "stream",
          "name": "stdout",
          "text": [
            "True\n",
            "False\n"
          ]
        }
      ]
    },
    {
      "cell_type": "markdown",
      "source": [
        "3. Mathematical Set Operations:\n",
        "* Sets support standard mathematical operations such as union, intersection, difference, and symmetric difference.\n",
        "* **Use case**: Doing things with groups of data, including finding the same items in two groups of data or combining them."
      ],
      "metadata": {
        "id": "5GIbHTDuW-jb"
      }
    },
    {
      "cell_type": "code",
      "source": [
        "# Set operations: Union, Intersection, Difference\n",
        "set_a = {1, 2, 3}\n",
        "set_b = {3, 4, 5}\n",
        "\n",
        "union_set = set_a | set_b  # Union: {1, 2, 3, 4, 5}\n",
        "intersection_set = set_a & set_b  # Intersection: {3}\n",
        "difference_set = set_a - set_b  # Difference: {1, 2}\n",
        "\n",
        "print(union_set, intersection_set, difference_set)"
      ],
      "metadata": {
        "colab": {
          "base_uri": "https://localhost:8080/"
        },
        "id": "g_i6ctjTXNt1",
        "outputId": "ccfa1d9e-89a9-4b19-e1e2-2650cb3d8cb3"
      },
      "execution_count": 35,
      "outputs": [
        {
          "output_type": "stream",
          "name": "stdout",
          "text": [
            "{1, 2, 3, 4, 5} {3} {1, 2}\n"
          ]
        }
      ]
    },
    {
      "cell_type": "markdown",
      "source": [
        "4. **Removing Elements:**\n",
        "* Sets allow one to easily add or remove items without much hassle. You may use them to change a group of items, like adding new ones or getting rid of old ones.\n",
        "* **Use case**: Maintain an active users, valid IDs, or tracked items list that is always up-to-date."
      ],
      "metadata": {
        "id": "7_snWicjXhM3"
      }
    },
    {
      "cell_type": "code",
      "source": [
        "# Adding and removing elements from a set\n",
        "users = {\"alice\", \"bob\", \"charlie\"}\n",
        "users.add(\"dave\")  # Add new user\n",
        "users.remove(\"bob\")  # Remove user\n",
        "print(users)  # Output: {'alice', 'charlie', 'dave'}"
      ],
      "metadata": {
        "colab": {
          "base_uri": "https://localhost:8080/"
        },
        "id": "SrRVljn8Xsg8",
        "outputId": "7c0a93e3-9823-4a3e-f549-fbbc5846bf02"
      },
      "execution_count": 36,
      "outputs": [
        {
          "output_type": "stream",
          "name": "stdout",
          "text": [
            "{'dave', 'charlie', 'alice'}\n"
          ]
        }
      ]
    },
    {
      "cell_type": "markdown",
      "source": [
        "5. **Special Items tracking:**\n",
        "* Sets are useful for keeping track of distinct items or entities. For instance, they could count different words within a text or follow unique events or interactions.\n",
        "* Use case: Counting different items in a dataset, for example, unique visitors going through a website."
      ],
      "metadata": {
        "id": "tAi8HHqlX_LI"
      }
    },
    {
      "cell_type": "code",
      "source": [
        "# Counting unique visitors\n",
        "visitors = [\"alice\", \"bob\", \"charlie\", \"alice\", \"bob\"]\n",
        "unique_visitors = set(visitors)\n",
        "print(len(unique_visitors))  # Output: 3 (alice, bob, charlie)"
      ],
      "metadata": {
        "colab": {
          "base_uri": "https://localhost:8080/"
        },
        "id": "mIlS8stLYGSr",
        "outputId": "948d6e51-f5f9-406b-95bb-17e8ad93fe03"
      },
      "execution_count": 37,
      "outputs": [
        {
          "output_type": "stream",
          "name": "stdout",
          "text": [
            "3\n"
          ]
        }
      ]
    },
    {
      "cell_type": "markdown",
      "source": [
        "6. **Set Membership for Filtering:**\n",
        "* Sets can serve as a means of filtering data based on membership.\n",
        "* Use case: Apply a filter on a list so only some of its items are visible that are part of valid choices-for example, only those allowed email domains."
      ],
      "metadata": {
        "id": "wYC1X5nwYUSb"
      }
    },
    {
      "cell_type": "code",
      "source": [
        "# Filtering using set membership\n",
        "allowed_domains = {\"example.com\", \"company.com\"}\n",
        "emails = [\"alice@example.com\", \"bob@other.com\", \"carol@company.com\"]\n",
        "valid_emails = [email for email in emails if email.split('@')[1] in allowed_domains]\n",
        "print(valid_emails)  # Output: ['alice@example.com', 'carol@company.com']"
      ],
      "metadata": {
        "colab": {
          "base_uri": "https://localhost:8080/"
        },
        "id": "oFeRXEBcYaAz",
        "outputId": "053e2763-2442-4051-e125-0360aa568f68"
      },
      "execution_count": 38,
      "outputs": [
        {
          "output_type": "stream",
          "name": "stdout",
          "text": [
            "['alice@example.com', 'carol@company.com']\n"
          ]
        }
      ]
    },
    {
      "cell_type": "markdown",
      "source": [
        "So basically, When to Use **Tuples** vs **Sets**:\n",
        "\n",
        "**Tuples:**\n",
        "\n",
        "1. Use when you need ***immutable, ordered*** collections of items.\n",
        "2. Ideal for ***fixed collections***, representing records, or returning multiple values from functions.\n",
        "3. Useful when you need to use the collection as a ***key in a dictionary*** or an ***element of a set***.\n",
        "\n",
        "**Sets:**\n",
        "\n",
        "1. Use when you need a collection of ***unique elements*** and are focused on ***membership testing ***or performing ***set operations***.\n",
        "2. Ideal for ***removing duplicates***, ***checking membership*** quickly, or performing operations like ***intersection or union***.\n",
        "3. Great when order doesn't matter and you don’t need to store duplicate values.\n",
        "\n",
        "Each of these data structures serves a distinct purpose and is chosen based on the specific needs of the problem you're solving."
      ],
      "metadata": {
        "id": "3xXxAyC2YmKL"
      }
    },
    {
      "cell_type": "markdown",
      "source": [
        "**Q7. Describe how to add, modify, and delete items in a dictionary with examples.**"
      ],
      "metadata": {
        "id": "Rt_zn_N9Zkkd"
      }
    },
    {
      "cell_type": "markdown",
      "source": [
        "**Ans:** In Python, a collection of key-value pairs is called a **dictionary**. Each key is unique, and you use them as keys to look up a related value. Dictionaries can mutate: you can add, modify and remove items after they have been created.\n",
        "\n",
        "Let's see how to do these tasks: adding, changing, and removing items—in a dictionary with examples.\n",
        "\n",
        "1. **Adding Entries in a Dictionary:**\n",
        "You can add a new key-value pair to a dictionary with a new key assigned a value. If the key does not already exist, the key-value pair is added; if the key already exists, the value gets overridden(we will see in modyifying section)."
      ],
      "metadata": {
        "id": "fPFrcn_naDjE"
      }
    },
    {
      "cell_type": "code",
      "source": [
        "# Example:\n",
        "\n",
        "# Creating an initial dictionary\n",
        "my_dict = {\"name\": \"Alice\", \"age\": 25}\n",
        "\n",
        "# Adding a new key-value pair\n",
        "my_dict[\"location\"] = \"New York\"\n",
        "print(my_dict)\n",
        "\n",
        "# Adding another key-value pair\n",
        "my_dict[\"job\"] = \"Engineer\"\n",
        "print(my_dict)"
      ],
      "metadata": {
        "colab": {
          "base_uri": "https://localhost:8080/"
        },
        "id": "3nmK7c1Pa0EL",
        "outputId": "8cd4974d-a4b6-4b84-e6db-c931a5e6f495"
      },
      "execution_count": 46,
      "outputs": [
        {
          "output_type": "stream",
          "name": "stdout",
          "text": [
            "{'name': 'Alice', 'age': 25, 'location': 'New York'}\n",
            "{'name': 'Alice', 'age': 25, 'location': 'New York', 'job': 'Engineer'}\n"
          ]
        }
      ]
    },
    {
      "cell_type": "markdown",
      "source": [
        "2.  **Modifying Items in a Dictionary:**\n",
        "To modify the value associated with an existing key, you can simply assign a new value to the key. If the key already exists in the dictionary, the old value will be replaced with the new one."
      ],
      "metadata": {
        "id": "aRLq_xnjbArF"
      }
    },
    {
      "cell_type": "code",
      "source": [
        "# Example:\n",
        "\n",
        "# Modifying an existing key-value pair\n",
        "my_dict[\"age\"] = 26  # Changing the value associated with the key \"age\"\n",
        "print(my_dict)\n",
        "\n",
        "# Modifying another key-value pair\n",
        "my_dict[\"location\"] = \"San Francisco\"\n",
        "print(my_dict)"
      ],
      "metadata": {
        "colab": {
          "base_uri": "https://localhost:8080/"
        },
        "id": "L8H-jeSsbE6C",
        "outputId": "48b6ebf5-aafa-467c-cf68-9033bd2ab54a"
      },
      "execution_count": 47,
      "outputs": [
        {
          "output_type": "stream",
          "name": "stdout",
          "text": [
            "{'name': 'Alice', 'age': 26, 'location': 'New York', 'job': 'Engineer'}\n",
            "{'name': 'Alice', 'age': 26, 'location': 'San Francisco', 'job': 'Engineer'}\n"
          ]
        }
      ]
    },
    {
      "cell_type": "markdown",
      "source": [
        " 3. **Deleting Items from a Dictionary:**\n",
        "There are a few ways to remove items from a dictionary in Python:\n",
        "\n",
        "* Using the **del** statement:\n",
        "The **del** statement removes a key-value pair by specifying the key.\n",
        "\n",
        "   **Note**: Here if the key does not exist, del will raise a KeyError."
      ],
      "metadata": {
        "id": "t5Xh7VDjbQ4z"
      }
    },
    {
      "cell_type": "code",
      "source": [
        "# Deleting an item using the `del` statement\n",
        "del my_dict[\"job\"]\n",
        "print(my_dict)"
      ],
      "metadata": {
        "colab": {
          "base_uri": "https://localhost:8080/"
        },
        "id": "F03YQGvKbsoo",
        "outputId": "20f34952-5e70-4bc4-c0cc-772fbfd8cce1"
      },
      "execution_count": 48,
      "outputs": [
        {
          "output_type": "stream",
          "name": "stdout",
          "text": [
            "{'name': 'Alice', 'age': 26, 'location': 'San Francisco'}\n"
          ]
        }
      ]
    },
    {
      "cell_type": "markdown",
      "source": [
        "* Using the **pop()** method:\n",
        "The **pop()** method removes a key-value pair and returns the value associated with the key. If the key does not exist, it raises a KeyError, but you can provide a default value to avoid the error."
      ],
      "metadata": {
        "id": "D_Fg0dLxcHNR"
      }
    },
    {
      "cell_type": "code",
      "source": [
        "# Deleting an item using the `pop()` method\n",
        "age_value = my_dict.pop(\"age\")\n",
        "print(age_value)  # Output: 26\n",
        "print(my_dict)    # Output: {'name': 'Alice', 'location': 'San Francisco'}\n",
        "\n",
        "# Using `pop()` with a default value (to avoid KeyError)\n",
        "removed_value = my_dict.pop(\"job\", \"Not Found\")\n",
        "print(removed_value)  # Output: Not Found will be printed as key 'job' is not there.\n",
        "print(my_dict)        # Output: {'name': 'Alice', 'location': 'San Francisco'}"
      ],
      "metadata": {
        "colab": {
          "base_uri": "https://localhost:8080/"
        },
        "id": "rCxSkNvzcumN",
        "outputId": "0beffaca-23bf-4170-e96f-f12d56de44b5"
      },
      "execution_count": 49,
      "outputs": [
        {
          "output_type": "stream",
          "name": "stdout",
          "text": [
            "26\n",
            "{'name': 'Alice', 'location': 'San Francisco'}\n",
            "Not Found\n",
            "{'name': 'Alice', 'location': 'San Francisco'}\n"
          ]
        }
      ]
    },
    {
      "cell_type": "markdown",
      "source": [
        "* Using the **popitem()** method:\n",
        "The **popitem()** method removes a random key-value pair from the dictionary. It returns the removed item. If the dictionary is empty, it raises a KeyError. This method is useful when you want to remove items arbitrarily from the dictionary."
      ],
      "metadata": {
        "id": "iqSTsMNgc-AM"
      }
    },
    {
      "cell_type": "code",
      "source": [
        "# Deleting an arbitrary key-value pair using `popitem()`\n",
        "item = my_dict.popitem()\n",
        "print(item)    # Output: ('location', 'San Francisco')\n",
        "print(my_dict) # Output: {'name': 'Alice'}\n",
        "\n",
        "# If the dictionary is empty, calling `popitem()` will raise an error\n",
        "# my_dict.popitem()  # Uncommenting this will raise KeyError"
      ],
      "metadata": {
        "colab": {
          "base_uri": "https://localhost:8080/"
        },
        "id": "uBVjRPWkeORX",
        "outputId": "2f70d68d-6c10-4e98-b752-a4840abe1c32"
      },
      "execution_count": 50,
      "outputs": [
        {
          "output_type": "stream",
          "name": "stdout",
          "text": [
            "('location', 'San Francisco')\n",
            "{'name': 'Alice'}\n"
          ]
        }
      ]
    },
    {
      "cell_type": "markdown",
      "source": [
        "* Using the **clear()** method:\n",
        "The **clear()** method removes all items from the dictionary, making it empty."
      ],
      "metadata": {
        "id": "W9-E3wOreiY6"
      }
    },
    {
      "cell_type": "code",
      "source": [
        "# Clearing all items from the dictionary\n",
        "my_dict.clear()\n",
        "print(my_dict)  # Output: {}"
      ],
      "metadata": {
        "colab": {
          "base_uri": "https://localhost:8080/"
        },
        "id": "GJ4Xk2AMenLK",
        "outputId": "eb1d0566-5a2b-44cf-a0ef-59598b13971d"
      },
      "execution_count": 51,
      "outputs": [
        {
          "output_type": "stream",
          "name": "stdout",
          "text": [
            "{}\n"
          ]
        }
      ]
    },
    {
      "cell_type": "markdown",
      "source": [
        "So, these are the different operations and different ways to do a particular operation on dictionaries."
      ],
      "metadata": {
        "id": "5GKAieDIevW0"
      }
    },
    {
      "cell_type": "markdown",
      "source": [
        "**Q8.  Discuss the importance of dictionary keys being immutable and provide example.**"
      ],
      "metadata": {
        "id": "YmlhHE0CfL26"
      }
    },
    {
      "cell_type": "markdown",
      "source": [
        "**Ans:** In Python, dictionaries are collections of key-value pairs where each of the **keys** is unique. For this property, that each key needs to be unique, it must also be immutable. The immutability is one of the factors making dictionaries behave and perform exactly as they do.\n",
        "\n",
        "Let's see why dictionary keys have to be immutable and what might happen if mutable objects were allowed to be keys.\n",
        "\n",
        "**Why Keys must be immutable:**\n",
        "\n",
        "The Reason Implicit Keys need to be Constant Along with many other things.\n",
        "\n",
        "***Hashability:***\n",
        "\n",
        "* Dictionaries in python using hash tables means that every time a key is looked up its hashed to a specific address in memory for easy access, insertion, and deleting of entries (for these actions the average time taken is O(1)).\n",
        "* In the computation of the hash a key is needed to be in an immutable state. The reason this is the case is that hash table puts the object using its hash, and if any changes are made to the object, its hash can modify along with it leading to problems of looking up or modifying objects in the hash table.\n",
        "* For instance, consider the use of a mutable object as a key, such as the ink pen. After using the key for writing, the state of the writing instrument alters, consequently changing the hashing mechanism and resulting in the dictionary being unable to locate the key after the amendment.\n",
        "\n",
        "***Consistency:***\n",
        "\n",
        "* In the case where mutable objects lists or dictionaries can be used but in the case of dictionary keys, the values assigned to them might change even after usage as keys leading to inconsistent internal schema of the dictionary.\n",
        "* Because dictionaries use a key’s hash in locating the value associated with it, it is possible that a change to the key will result to the dictionary being unable to find the key.\n",
        "\n",
        "**What Happens If You Try to Use Mutable Types as Keys?**\n",
        "\n",
        "If you try to use a mutable type (like a list or a dictionary) as a key in a dictionary, Python will raise a TypeError, since these objects are unhashable.\n",
        "\n",
        "Example: Using a List as a Dictionary Key"
      ],
      "metadata": {
        "id": "5FpD7SFTgEyo"
      }
    },
    {
      "cell_type": "code",
      "source": [
        "# Attempting to use a list (mutable) as a dictionary key\n",
        "my_dict2 = {}\n",
        "my_list = [1, 2, 3]\n",
        "\n",
        "my_dict2[my_list]= \"This won't work\"   #It will throw an error: TypeError: unhashable type: 'list'\n",
        "\n",
        "# In this case, Python raises a TypeError because lists are mutable and cannot be hashed."
      ],
      "metadata": {
        "id": "--mExCXGig6y"
      },
      "execution_count": null,
      "outputs": []
    },
    {
      "cell_type": "markdown",
      "source": [
        "Example: Using an Immutable Type as a Dictionary Key"
      ],
      "metadata": {
        "id": "KxnWsqeKlG2K"
      }
    },
    {
      "cell_type": "code",
      "source": [
        "# Using a tuple (immutable) as a dictionary key\n",
        "my_dict = {}\n",
        "my_tuple = (1, 2, 3)\n",
        "\n",
        "my_dict[my_tuple] = \"This will work\"\n",
        "print(my_dict)  # Output: {(1, 2, 3): 'This will work'}\n",
        "\n",
        "# Here tuple is immutable so it can be used as a dictionary key as it is hashable."
      ],
      "metadata": {
        "colab": {
          "base_uri": "https://localhost:8080/"
        },
        "id": "R5gLirTelrBZ",
        "outputId": "3a9949b2-6d56-4922-8d84-994c6b11f233"
      },
      "execution_count": 54,
      "outputs": [
        {
          "output_type": "stream",
          "name": "stdout",
          "text": [
            "{(1, 2, 3): 'This will work'}\n"
          ]
        }
      ]
    },
    {
      "cell_type": "markdown",
      "source": [
        "**Immutable**: An object is considered immutable if its state cannot be changed after it’s created. Common immutable objects include **int**, **str**, **tuple**, and **frozenset**.\n",
        "\n",
        "**Note:** In Python, every object that cannot be changed is hashable whereas all hashable objects are not immutable. For instance, frozenset is immutable and hashable, however, it is different from a set which is mutable and therefore cannot be hashed.\n",
        "* As list is mutable, we can't use it as a key in dictionary but we can convert the list into tuple and then use it as a key as tuples are immutable. for example:"
      ],
      "metadata": {
        "id": "7DYYpfQXnvDW"
      }
    },
    {
      "cell_type": "code",
      "source": [
        "# Using a mutable object (list) as a key\n",
        "my_dict = {}\n",
        "key = [1, 2, 3]  # A list is mutable\n",
        "\n",
        "# Adding the list as a key\n",
        "my_dict[tuple(key)] = \"Initial Value\"\n",
        "print(my_dict)  # Output: {(1, 2, 3): 'Initial Value'}"
      ],
      "metadata": {
        "colab": {
          "base_uri": "https://localhost:8080/"
        },
        "id": "FNCKNRAerXKX",
        "outputId": "91b2e31f-7700-4366-be03-539301fd3498"
      },
      "execution_count": 55,
      "outputs": [
        {
          "output_type": "stream",
          "name": "stdout",
          "text": [
            "{(1, 2, 3): 'Initial Value'}\n"
          ]
        }
      ]
    },
    {
      "cell_type": "markdown",
      "source": [
        "**Note:**\n",
        "1. But in the above example, if we had tried to modify the list after by adding a new element then if we try to again print the dictionary, we would have got an error.\n",
        "\n",
        "2. But if we had used tuple(immutable) as key and even after using it once as a key to add a key-value pair in dictionary, we would have tried to modify the tuple, still it would have had no effect on the dictionary.\n",
        "\n",
        "If we summarize:\n",
        "\n",
        "**Immutability Guaranteeing Hashability:**\n",
        "\n",
        "In order to be a key in a dictionary, the key needs to be hashable, which can only be the case if the key is immutable. This makes sure that the hash value of a key will remain same through out the life cycle of the dictionary preventing errors or unexpected behavior.\n",
        "\n",
        "**Inconsistency with Mutable Keys:**\n",
        "\n",
        "If foreign keys were to be allocated to a key, then because of their internal state alteration, the internal object’s hash value would also change leading to the complication of mapping its return value back to the dictionary.\n",
        "\n",
        "**Some Examples of Commonly Used Immutable Types Include:**\n",
        "\n",
        "Some of the common immutable types which may be used as keys to the dictionaries are int, str, tuple, and frozenset.\n",
        "\n",
        "**Do Not Permit Use Of Mutable Types:**\n",
        "\n",
        "Mutable objects such as lists, sets, or dictionaries themselves do not have a hash value. Thus, they cannot serve as keys in a hash table."
      ],
      "metadata": {
        "id": "tJLCI_HVrlgM"
      }
    }
  ]
}