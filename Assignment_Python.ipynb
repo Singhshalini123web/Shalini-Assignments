{
  "nbformat": 4,
  "nbformat_minor": 0,
  "metadata": {
    "colab": {
      "provenance": [],
      "toc_visible": true
    },
    "kernelspec": {
      "name": "python3",
      "display_name": "Python 3"
    },
    "language_info": {
      "name": "python"
    }
  },
  "cells": [
    {
      "cell_type": "markdown",
      "source": [
        "Q1 - Discuss string slicing and provide examples.\n",
        " - As string is a sequence of charachter and also immutable, we can not change it once created.\n",
        " So, in string slicing we extract a sub-tring or can say some sequence character from created string by using charater indexes."
      ],
      "metadata": {
        "id": "cPKkGrq9Flk_"
      }
    },
    {
      "cell_type": "code",
      "source": [
        "#example of strig slicing\n",
        "string = \"This is Pw skills assignment\"\n",
        "#indexing sequence\n",
        "print(string[:8])\n",
        "print(string[::3])\n",
        "#reversing string\n",
        "print(string[::-1])\n"
      ],
      "metadata": {
        "colab": {
          "base_uri": "https://localhost:8080/"
        },
        "id": "v2GTfUVWHGXG",
        "outputId": "48e472c0-c85e-478e-8f12-0124fe342230"
      },
      "execution_count": null,
      "outputs": [
        {
          "output_type": "stream",
          "name": "stdout",
          "text": [
            "This is \n",
            "Tsswklaimt\n",
            "tnemngissa slliks wP si sihT\n"
          ]
        }
      ]
    },
    {
      "cell_type": "markdown",
      "source": [
        "Q2 - Explain the key features of lists in python.\n",
        " - List is an ordered collection of elements/items and we can store hetrogenous data inside a list and list is mutable.\n",
        " - Indexing and Slicing: we can access individual elements using zero-based indexing and extract sublists using slicing.\n",
        " - List Comprehensions: Python supports concise syntax for creating lists using list comprehensions, allowing for quick generation and transformation of lists.\n",
        " - Nested Lists: Lists can contain other lists, enabling the creation of multi-dimensional data structures like matrices.\n",
        "  - Deep"
      ],
      "metadata": {
        "id": "DqyMlsUAIKbU"
      }
    },
    {
      "cell_type": "code",
      "source": [
        "#list comprehension - we concise the code\n",
        "\"\"\"price = [10,20,30,40,50]\n",
        "prices = []\n",
        "for i in price:\n",
        "  prices.append(i*2)\n",
        "print(prices)\"\"\"\n",
        "\n",
        "#instead of writig the above long code we concise the code\n",
        "price = [10,20,30,40,50]\n",
        "new_prices = [prices*2 for prices in price]\n",
        "print(new_prices)"
      ],
      "metadata": {
        "colab": {
          "base_uri": "https://localhost:8080/"
        },
        "id": "9LSXJ36PJSTA",
        "outputId": "ae41f024-24ce-4729-ce76-c39d81161c0f"
      },
      "execution_count": null,
      "outputs": [
        {
          "output_type": "stream",
          "name": "stdout",
          "text": [
            "[20, 40, 60, 80, 100]\n"
          ]
        }
      ]
    },
    {
      "cell_type": "code",
      "source": [
        "#nested list\n",
        "pair=[]\n",
        "#[[x,y] for x in [1,2,3] for y in [4,5,6]]\n",
        "for x in [1,2,3,]:\n",
        "  for y in [4,5,6]:\n",
        "    pair.append([x,y])\n",
        "pair"
      ],
      "metadata": {
        "colab": {
          "base_uri": "https://localhost:8080/"
        },
        "id": "xckGLM6pS-1T",
        "outputId": "7ce7497b-36d3-46f7-b789-4e7967de45ab"
      },
      "execution_count": null,
      "outputs": [
        {
          "output_type": "execute_result",
          "data": {
            "text/plain": [
              "[[1, 4], [1, 5], [1, 6], [2, 4], [2, 5], [2, 6], [3, 4], [3, 5], [3, 6]]"
            ]
          },
          "metadata": {},
          "execution_count": 32
        }
      ]
    },
    {
      "cell_type": "markdown",
      "source": [
        "Q3 - Describe how to access, modify, and delete elements in a list with examples.\n",
        " -  - we have built-in methods to perform some common operations like add, remove and sort the values in list."
      ],
      "metadata": {
        "id": "ltFcjIDGN0K_"
      }
    },
    {
      "cell_type": "code",
      "source": [
        "#indexing to access the elements in list\n",
        "list = [\"pwskills\", \"Data Analyst\", \"course\", \"python-list\", \"features\"]\n",
        "print(list[0])\n",
        "print(list[::2])\n",
        "print(list[1:4])"
      ],
      "metadata": {
        "colab": {
          "base_uri": "https://localhost:8080/"
        },
        "id": "cBSIw_voPi_8",
        "outputId": "eeb84873-f1ad-439b-8a9c-5a76529f10f6"
      },
      "execution_count": null,
      "outputs": [
        {
          "output_type": "stream",
          "name": "stdout",
          "text": [
            "pwskills\n",
            "['pwskills', 'course', 'features']\n",
            "['Data Analyst', 'course', 'python-list']\n"
          ]
        }
      ]
    },
    {
      "cell_type": "code",
      "source": [
        "#built-in methods to modify list\n",
        "list = [\"pwskills\", \"Data Analyst\", \"course\", \"python-list\", \"features\"]\n",
        "#append(): Adds element at the end of the list.\n",
        "list.append(8)\n",
        "print(list)\n",
        "#pop removes the item from the end\n",
        "list.pop()\n",
        "print(list)\n",
        "#insert add the element inside the list on a speacific index number\n",
        "list.insert(5,\"kk\")\n",
        "#delete list items with specific index\n",
        "del list[1]\n",
        "print(list)\n",
        "#clear is used to empty the list\n",
        "list.clear()\n",
        "print(list)\n",
        "#del can also be used to delete the entire list\n",
        "list1 = [1,2,3,4]\n",
        "del list1\n",
        "print(list1) #list has been deleted that's why it will show error:not defined."
      ],
      "metadata": {
        "colab": {
          "base_uri": "https://localhost:8080/",
          "height": 255
        },
        "id": "XWIPFirrN5oR",
        "outputId": "f3d43cd0-3004-4367-bba7-e93e78529303"
      },
      "execution_count": null,
      "outputs": [
        {
          "output_type": "stream",
          "name": "stdout",
          "text": [
            "['pwskills', 'Data Analyst', 'course', 'python-list', 'features', 8]\n",
            "['pwskills', 'Data Analyst', 'course', 'python-list', 'features']\n",
            "['pwskills', 'course', 'python-list', 'features', 'kk']\n",
            "[]\n"
          ]
        },
        {
          "output_type": "error",
          "ename": "NameError",
          "evalue": "name 'list1' is not defined",
          "traceback": [
            "\u001b[0;31m---------------------------------------------------------------------------\u001b[0m",
            "\u001b[0;31mNameError\u001b[0m                                 Traceback (most recent call last)",
            "\u001b[0;32m<ipython-input-44-70a34c4db220>\u001b[0m in \u001b[0;36m<cell line: 20>\u001b[0;34m()\u001b[0m\n\u001b[1;32m     18\u001b[0m \u001b[0mlist1\u001b[0m \u001b[0;34m=\u001b[0m \u001b[0;34m[\u001b[0m\u001b[0;36m1\u001b[0m\u001b[0;34m,\u001b[0m\u001b[0;36m2\u001b[0m\u001b[0;34m,\u001b[0m\u001b[0;36m3\u001b[0m\u001b[0;34m,\u001b[0m\u001b[0;36m4\u001b[0m\u001b[0;34m]\u001b[0m\u001b[0;34m\u001b[0m\u001b[0;34m\u001b[0m\u001b[0m\n\u001b[1;32m     19\u001b[0m \u001b[0;32mdel\u001b[0m \u001b[0mlist1\u001b[0m\u001b[0;34m\u001b[0m\u001b[0;34m\u001b[0m\u001b[0m\n\u001b[0;32m---> 20\u001b[0;31m \u001b[0mprint\u001b[0m\u001b[0;34m(\u001b[0m\u001b[0mlist1\u001b[0m\u001b[0;34m)\u001b[0m\u001b[0;34m\u001b[0m\u001b[0;34m\u001b[0m\u001b[0m\n\u001b[0m",
            "\u001b[0;31mNameError\u001b[0m: name 'list1' is not defined"
          ]
        }
      ]
    },
    {
      "cell_type": "markdown",
      "source": [
        "Q4 - Compare and contrast tuples and list with examples.\n",
        " - We use lists when you need a collection that can change (add, remove, modify)and we use tuples when you need a fixed collection of items that should not change.\n",
        "  - List is mutable.\n",
        "  syntax of list:\n",
        "  list = []\n",
        "  - Tuple is immutable, can only perform limited operations on it.\n",
        "  Synatx of tuple:\n",
        "  tuple = ()"
      ],
      "metadata": {
        "id": "2n7HiazlTipI"
      }
    },
    {
      "cell_type": "code",
      "source": [
        "#tuple\n",
        "t = (3,5,8,10,45,5,5,5)\n",
        "t1 = (75,58,80)\n",
        "print(t.count(5))\n",
        "print(max(t))\n",
        "print(min(t))\n",
        "#nested tuple\n",
        "t2 = t1+t\n",
        "print(t2)\n"
      ],
      "metadata": {
        "colab": {
          "base_uri": "https://localhost:8080/"
        },
        "id": "s8D-zE8KVBqE",
        "outputId": "02a5ad97-0210-47ea-dd06-60b8ae34887b"
      },
      "execution_count": null,
      "outputs": [
        {
          "output_type": "stream",
          "name": "stdout",
          "text": [
            "4\n",
            "45\n",
            "3\n",
            "(75, 58, 80, 3, 5, 8, 10, 45, 5, 5, 5)\n"
          ]
        }
      ]
    },
    {
      "cell_type": "code",
      "source": [
        "#but in list we can perform various operation, we can add, remove and do slicing in list\n",
        "list = [10,20,30,40]\n",
        "list.append(8)\n",
        "print(list)\n",
        "#pop removes the item from the end\n",
        "list.pop()\n",
        "print(list)\n",
        "#insert add the element inside the list on a speacific index number\n",
        "list.insert(5,\"kk\")\n"
      ],
      "metadata": {
        "colab": {
          "base_uri": "https://localhost:8080/"
        },
        "id": "o1skqnJFWRKM",
        "outputId": "bbc3e8fa-b09a-40a8-d745-80da082679a8"
      },
      "execution_count": null,
      "outputs": [
        {
          "output_type": "stream",
          "name": "stdout",
          "text": [
            "[10, 20, 30, 40, 8]\n",
            "[10, 20, 30, 40]\n"
          ]
        }
      ]
    },
    {
      "cell_type": "markdown",
      "source": [
        "Q5 - Describe the key features of sets and provide examples of their use.\n",
        " - Sets are unordered and unique collection of elements.\n",
        " - It doesn't allow duplicate elements and indexing doesn't work in sets.\n",
        " - We can also perform some operations in sets:\n",
        " 1 - Union\n",
        " 2 - Intersection\n",
        " 3 - Difference\n",
        " 4 - Symmetric"
      ],
      "metadata": {
        "id": "ZZhEwtxJXB0a"
      }
    },
    {
      "cell_type": "code",
      "source": [
        " #sets are unique collection of elements.\n",
        " s = {1,1,2,3,4,4,4,5}\n",
        " print(s)\n",
        " #sets modification\n",
        " s.pop() #pop removes a random element from set\n",
        " print(s)\n",
        " s.update([\"pw skills\"]) #we have to add a string in the form of list.\n",
        " print(s)\n",
        " s.update(\"skills\") #it's gonna treat every letter of string as an individual element.\n",
        " print(s)"
      ],
      "metadata": {
        "colab": {
          "base_uri": "https://localhost:8080/"
        },
        "id": "5a0_1_-WJq99",
        "outputId": "226caae7-0de5-4cc1-e873-be782e9ce502"
      },
      "execution_count": 7,
      "outputs": [
        {
          "output_type": "stream",
          "name": "stdout",
          "text": [
            "{1, 2, 3, 4, 5}\n",
            "{2, 3, 4, 5}\n",
            "{'pw skills', 2, 3, 4, 5}\n",
            "{2, 3, 4, 5, 's', 'i', 'pw skills', 'k', 'l'}\n"
          ]
        }
      ]
    },
    {
      "cell_type": "code",
      "source": [
        "#sets operation:\n",
        "#1. Union | (collects all the unique elements from both sets)\n",
        "s1 = {1,2,3,4,5}\n",
        "s2 = {4,5,6,7,8,9}\n",
        "print(\"union\", s1|s2)\n",
        "\n",
        "#2. Intersection & ( collects only common elements from sets)\n",
        "print(\"Intersection\",s1&s2)\n",
        "\n",
        "#3. Difference - (collects the elements that are present in the first set only leaving the common elements)\n",
        "print(\"Difference\", s1-s2)\n",
        "\n",
        "#4. Symmetric ^ (collects all the elements except the commen elements)\n",
        "print(\"Symmetric\", s1^s2)"
      ],
      "metadata": {
        "colab": {
          "base_uri": "https://localhost:8080/"
        },
        "id": "0MH5_rniL4_A",
        "outputId": "6e5142ab-3474-4698-8726-00b90f1ab16a"
      },
      "execution_count": 13,
      "outputs": [
        {
          "output_type": "stream",
          "name": "stdout",
          "text": [
            "union {1, 2, 3, 4, 5, 6, 7, 8, 9}\n",
            "Intersection {4, 5}\n",
            "Difference {1, 2, 3}\n",
            "Symmetric {1, 2, 3, 6, 7, 8, 9}\n"
          ]
        }
      ]
    },
    {
      "cell_type": "markdown",
      "source": [
        "Q6 - Discuss the use cases of tuples and sets in Python programming.\n",
        " - Tuples are ordered, immutable collections of items. Once created, the elements of a tuple cannot be changed, that's why we can only do few modifications in tuple.\n",
        "\n",
        "\n",
        " - Sets are unordered collections of unique elements. They are mutable, Sets allows so many operations that we can perform on set."
      ],
      "metadata": {
        "id": "t6wURqZaNlUO"
      }
    },
    {
      "cell_type": "code",
      "source": [
        "#tuple use cases\n",
        "t = (3,5,8,10,45,5,5,5)\n",
        "t1 = (75,58,80)\n",
        "print(t.count(5))\n",
        "print(max(t))\n",
        "print(min(t))\n",
        "#nested tuple\n",
        "t2 = t1+t\n",
        "print(t2)"
      ],
      "metadata": {
        "colab": {
          "base_uri": "https://localhost:8080/"
        },
        "id": "rc1tDC16O9iW",
        "outputId": "a549c92e-1f2a-4016-b9bf-76d7b94490a2"
      },
      "execution_count": 14,
      "outputs": [
        {
          "output_type": "stream",
          "name": "stdout",
          "text": [
            "4\n",
            "45\n",
            "3\n",
            "(75, 58, 80, 3, 5, 8, 10, 45, 5, 5, 5)\n"
          ]
        }
      ]
    },
    {
      "cell_type": "code",
      "source": [
        "#sets use cases\n",
        "s = {7,8,5,75,85,905}\n",
        "print(s)\n",
        " #sets modification\n",
        "s.pop() #pop removes a random element from set\n",
        "print(s)\n",
        "s.update([\"pw skills\"]) #we have to add a string in the form of list.\n",
        "print(s)\n",
        "s.update(\"skills\") #it's gonna treat every letter of string as an individual element.\n",
        "print(s)\n",
        "s.remove(905) #removes the item that is mentioned\n",
        "print(s)"
      ],
      "metadata": {
        "colab": {
          "base_uri": "https://localhost:8080/"
        },
        "id": "FjN1ryP_QO8N",
        "outputId": "fac63c93-a39a-4fdd-831e-c60899b40aef"
      },
      "execution_count": 26,
      "outputs": [
        {
          "output_type": "stream",
          "name": "stdout",
          "text": [
            "{5, 85, 7, 8, 905, 75}\n",
            "{85, 7, 8, 905, 75}\n",
            "{'pw skills', 85, 7, 8, 905, 75}\n",
            "{7, 8, 905, 75, 's', 85, 'i', 'pw skills', 'k', 'l'}\n",
            "{7, 8, 75, 's', 85, 'i', 'pw skills', 'k', 'l'}\n"
          ]
        }
      ]
    },
    {
      "cell_type": "markdown",
      "source": [
        "Q7 - Describe how to add, modify, and delete items in a dictionary with examples."
      ],
      "metadata": {
        "id": "Tc6L9zSFTgJp"
      }
    },
    {
      "cell_type": "code",
      "source": [
        "#add items in dictionary\n",
        "d={\"name\":\"Karishma\", \"email\":\"kk@gmail.com\", \"contact\":123456}\n",
        "d[\"course enroll\"] = \"data analyst\"\n",
        "print(d)\n",
        "\n",
        "#delte items in dictionary\n",
        "del d[\"email\"]\n",
        "print(d)\n",
        "\n",
        "#modification in dictionary\n",
        "d[\"name\"] = \"Krishna\"\n",
        "d[\"contact\"] = 456789\n",
        "print(d)\n",
        "d1 = {\"fees\":20000}\n",
        "d.update(d1)\n",
        "print(d)\n",
        "\n",
        "#from keys\n",
        "d.fromkeys((\"a\",\"b\",\"c\"),(1,2,3))"
      ],
      "metadata": {
        "colab": {
          "base_uri": "https://localhost:8080/"
        },
        "id": "55Z6cyQ5Tfr7",
        "outputId": "0351ae39-2c4c-44d6-f807-e72503145fe1"
      },
      "execution_count": 53,
      "outputs": [
        {
          "output_type": "stream",
          "name": "stdout",
          "text": [
            "{'name': 'Karishma', 'email': 'kk@gmail.com', 'contact': 123456, 'course enroll': 'data analyst'}\n",
            "{'name': 'Karishma', 'contact': 123456, 'course enroll': 'data analyst'}\n",
            "{'name': 'Krishna', 'contact': 456789, 'course enroll': 'data analyst'}\n",
            "{'name': 'Krishna', 'contact': 456789, 'course enroll': 'data analyst', 'fees': 20000}\n"
          ]
        },
        {
          "output_type": "execute_result",
          "data": {
            "text/plain": [
              "{'a': (1, 2, 3), 'b': (1, 2, 3), 'c': (1, 2, 3)}"
            ]
          },
          "metadata": {},
          "execution_count": 53
        }
      ]
    },
    {
      "cell_type": "markdown",
      "source": [
        "Q8 - Discuss the importance of dictionary keys being immutable and provide examples.\n",
        " - In dictionary we have two parts per elemets = keys and values.\n",
        "The hash table implementation of dictionaries uses a hash value calculated from the key value to find the key. If let's say the key was a mutable object, its value could change, and thus its hash could also change.\n",
        "\n",
        "Since whoever changes the key object can't tell that it was being used as a dictionary key, it can't move the entry around in the dictionary.\n",
        "\n",
        "This would make it impossible to find the key again, leading to inconsistencies."
      ],
      "metadata": {
        "id": "3r3F4Eb2cpoz"
      }
    },
    {
      "cell_type": "code",
      "source": [
        "#Example of why dictionary key should be immutable.\n",
        "d = {\"commany name\":\"Physics Wallah\"}\n",
        "# The key 'name' cannot change, ensuring consistent access\n",
        "print(d[\"commany name\"])\n",
        "\n",
        "# If we could change the key, it can be a case that it it not going to make sense for the value and we could lose our data as we would not be able to find it without the key or address of data."
      ],
      "metadata": {
        "colab": {
          "base_uri": "https://localhost:8080/"
        },
        "id": "xIe5QiQUjK40",
        "outputId": "0e075af3-3fd2-4441-98dc-959a548afb50"
      },
      "execution_count": 58,
      "outputs": [
        {
          "output_type": "stream",
          "name": "stdout",
          "text": [
            "Physics Wallah\n"
          ]
        }
      ]
    }
  ]
}