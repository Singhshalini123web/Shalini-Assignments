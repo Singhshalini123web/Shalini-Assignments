{
  "nbformat": 4,
  "nbformat_minor": 0,
  "metadata": {
    "colab": {
      "provenance": []
    },
    "kernelspec": {
      "name": "python3",
      "display_name": "Python 3"
    },
    "language_info": {
      "name": "python"
    }
  },
  "cells": [
    {
      "cell_type": "markdown",
      "source": [
        "Q1. What are the five key concepts of Object-Oriented Programming (OOP)?\n",
        "\n",
        " - The five key concepts of Object-Oriented Programming (OOP) are:\n",
        "\n",
        "- Encapsulation:\n",
        "Encapsulation refers to the bundling of data (attributes) and the methods (functions) that operate on that data into a single unit known as a class. It also involves restricting direct access to some of an object's components, which is often done through the use of access modifiers (like private, protected, or public in languages like Java or C++). This ensures that the internal representation of an object is hidden from the outside world, and access to it is only allowed through well-defined interfaces (methods).\n",
        "\n",
        " - Abstraction:\n",
        "Abstraction is the concept of simplifying complex systems by modeling classes based on the essential properties and behaviors an object should have, ignoring irrelevant details. It helps focus on what an object does, rather than how it does it. In OOP, abstraction is achieved through abstract classes and interfaces that provide templates for concrete classes, while hiding unnecessary implementation details.\n",
        "\n",
        " - Inheritance:\n",
        "Inheritance allows one class (the subclass or derived class) to inherit properties and behaviors (methods) from another class (the superclass or base class). This promotes code reuse and establishes a relationship between the parent and child classes. A subclass can extend or modify the functionality of a superclass, adding new methods or overriding existing ones.\n",
        "\n",
        " - Polymorphism:\n",
        "Polymorphism means \"many forms\" and refers to the ability of different objects to respond to the same method call in a way that is appropriate to their own types. In OOP, this is typically achieved through method overriding (runtime polymorphism) or method overloading (compile-time polymorphism). Polymorphism allows a single interface to be used with different types of objects, improving flexibility and scalability.\n",
        "\n",
        " - Composition (or Aggregation):\n",
        "Composition refers to the concept of building complex objects by combining simpler objects. It's the design principle that says an object can contain instances of other objects, thereby forming a \"has-a\" relationship. Unlike inheritance, which establishes an \"is-a\" relationship, composition allows for more flexible object designs and helps in avoiding the pitfalls of deep inheritance hierarchies.\n",
        "\n",
        "Together, these concepts enable the creation of modular, reusable, and maintainable software systems."
      ],
      "metadata": {
        "id": "cR4hg07AR5uR"
      }
    },
    {
      "cell_type": "code",
      "source": [
        "#Q2. Write a Python class for a `Car` with attributes for `make`, `model`, and `year`. Include a method to display the car's information.\n",
        "\n",
        "class Car:\n",
        "  def __init__(self, make, model, year):\n",
        "    self.make = make\n",
        "    self.model = model\n",
        "    self.year = year\n",
        "  def show_car_info(self):\n",
        "    print(f\"made = {self.make} \\nmodel is = {self.model} \\nyear = {self.year}\")\n",
        "c = Car(\"Hyundai\", 100, 1990)\n",
        "c.show_car_info()\n"
      ],
      "metadata": {
        "colab": {
          "base_uri": "https://localhost:8080/"
        },
        "id": "yIhpjzGqS0D2",
        "outputId": "b13051ad-176e-48ec-828c-74a13bd11135"
      },
      "execution_count": null,
      "outputs": [
        {
          "output_type": "stream",
          "name": "stdout",
          "text": [
            "made = Hyundai \n",
            "model is = 100 \n",
            "year = 1990\n"
          ]
        }
      ]
    },
    {
      "cell_type": "code",
      "source": [
        "#Q3 - Explain the difference between instance methods and class methods. Provide an example of each.\n",
        "\"\"\"- 1. Instance Methods:\n",
        "Definition: Instance methods are methods that operate on an instance of a class (i.e., an object created from the class).\n",
        "They have access to the instance's attributes (variables) and can modify the state of the object.\n",
        "Called: They are called on an instance of the class.\n",
        "Parameter: The first parameter of an instance method is typically self, which refers to the specific instance of the class (object).\"\"\"\n",
        "\n",
        "class Car:\n",
        "  def __init__(self, make, model):\n",
        "    self.make = make\n",
        "    self.model = model\n",
        "\n",
        "  def start_engine(self):\n",
        "    print(f\"The {self.make} {self.model}'s engine is now running.\")\n",
        "\n",
        "my_car = Car(\"Toyota\", \"Corolla\")\n",
        "\n",
        "my_car.start_engine()\n",
        "\n",
        "\n",
        "\"\"\" Class Methods:\n",
        "Definition: Class methods are methods that operate on the class itself rather than on instances of the class.\n",
        "They can modify class-level variables (variables shared by all instances of the class).\n",
        "Called: They are called on the class itself, not an instance.\n",
        "Parameter: The first parameter of a class method is typically cls, which refers to the class itself, not the instance.\n",
        "Decorator: A class method is defined using the @classmethod decorator.  \"\"\"\n",
        "\n",
        "class Car:\n",
        "  total_cars = 0  # Class variable\n",
        "\n",
        "  def __init__(self, make, model):\n",
        "    self.make = make\n",
        "    self.model = model\n",
        "    Car.total_cars += 1\n",
        "\n",
        "  @classmethod\n",
        "  def car_count(cls):\n",
        "    print(f\"Total number of cars: {cls.total_cars}\")\n",
        "\n",
        "# Creating instances of Car\n",
        "car1 = Car(\"Toyota\", \"Corolla\")\n",
        "car2 = Car(\"Honda\", \"Civic\")\n",
        "\n",
        "# Calling the class method\n",
        "Car.car_count()\n"
      ],
      "metadata": {
        "colab": {
          "base_uri": "https://localhost:8080/"
        },
        "id": "MxUJUJFXXv8h",
        "outputId": "451cb491-b9c5-4c1e-9dbe-d900a69e4791"
      },
      "execution_count": 3,
      "outputs": [
        {
          "output_type": "stream",
          "name": "stdout",
          "text": [
            "The Toyota Corolla's engine is now running.\n",
            "Total number of cars: 2\n"
          ]
        }
      ]
    },
    {
      "cell_type": "code",
      "source": [
        "#Q4 - 4. How does Python implement method overloading? Give an example.\n",
        "\"\"\"Since Python does not allow methods with the same name and different signatures, if you define multiple methods with the same name,\n",
        "the last definition will override the previous ones.\n",
        "However, you can simulate method overloading in Python using the following techniques:\"\"\"\n",
        "\n",
        "class Student:\n",
        "  def student(self):\n",
        "    print(\"Welcome to PW Skills class\")\n",
        "  def student(self, Name = \"\"):\n",
        "    print(\"Welcome to PW Skills class, name\")\n",
        "  def student(self, name = \"\", course = \"\"):\n",
        "    print(\"Welcome to PW Skills class\", name, \"in your\", course)\n",
        "#Student method is taking different forms, the last method actually overloads the previous ones in the same class.\n",
        "\n",
        "s = Student()\n",
        "s.student(\"Karishma\", \"Data Science\")\n",
        "s.student()\n",
        "s.student(\"Karishma\")\n",
        "#method overloading happens in same class"
      ],
      "metadata": {
        "colab": {
          "base_uri": "https://localhost:8080/"
        },
        "id": "dBT7tUa2XvcN",
        "outputId": "06681d50-8b26-4784-b31a-cec3749de5ae"
      },
      "execution_count": null,
      "outputs": [
        {
          "output_type": "stream",
          "name": "stdout",
          "text": [
            "Welcome to PW Skills class Karishma in your Data Science\n",
            "Welcome to PW Skills class  in your \n",
            "Welcome to PW Skills class Karishma in your \n"
          ]
        }
      ]
    },
    {
      "cell_type": "code",
      "source": [
        "\"\"\"Q5 -  What are the three types of access modifiers in Python? How are they denoted?\n",
        "The three types of access modifiers in Python are:\n",
        "\n",
        "1. Public Members\n",
        "Definition: Public members (attributes and methods) are accessible from anywhere, both inside and outside the class. There's no restriction on accessing them.\n",
        "Notation: Public members are simply defined without any special leading underscores.\n",
        "Example:\"\"\"\n",
        "\n",
        "class Student:\n",
        "  def __init__(self, name, course, marks):\n",
        "    self.name = name\n",
        "    self.course = course\n",
        "    self.marks = marks\n",
        "s = Student(\"Kari\", \"Data Analyst\", 100)\n",
        "s.course\n",
        "s.name\n",
        "s.marks\n",
        "\n",
        "\"\"\"2. Protected Members\n",
        "Definition: Protected members are intended to be accessed only within the class and by subclasses (derived classes).\n",
        "They are not meant to be accessed directly from outside the class, but Python doesn't enforce this restriction strictly.\n",
        "Notation: Protected members are denoted by a single underscore (_) before the attribute or method name.\"\"\"\n",
        "#Example:\n",
        "\n",
        "class Bank:\n",
        "  def __init__(self, acc_bal, acc_num):\n",
        "    self.acc_bal = acc_bal\n",
        "    self._acc_num = acc_num\n",
        "  def show_details(self):\n",
        "    print(f\"Your cuurent account balance is: {self.acc_bal}, and account number is, {self._acc_num}\")\n",
        "b = Bank(500000, 1234678)\n",
        "b.show_details ()\n",
        "\n",
        "\"\"\"3. Private Members\n",
        "Definition: Private members are intended to be used only inside the class itself. They are not meant to be accessed from outside the class, including from subclasses.\n",
        "Notation: Private members are denoted by a double underscore (__) before the attribute or method name.\n",
        "Example:\"\"\"\n",
        "\n",
        "\n",
        "class Bank:\n",
        "  def __init__(self, acc_bal, acc_num):\n",
        "    self.acc_bal = acc_bal\n",
        "    self.__acc_num = acc_num\n",
        "  def show_details(self):\n",
        "    print(f\"Your cuurent account balance is: {self.acc_bal}, and account number is, {self.__acc_num}\")\n",
        "b = Bank(500000, 1234678)\n",
        "b.show_details ()"
      ],
      "metadata": {
        "colab": {
          "base_uri": "https://localhost:8080/"
        },
        "id": "ClTpWtNhgwfG",
        "outputId": "1efdd021-31d1-46f4-9044-de96ff1aae5f"
      },
      "execution_count": null,
      "outputs": [
        {
          "output_type": "stream",
          "name": "stdout",
          "text": [
            "Your cuurent account balance is: 500000, and account number is, 1234678\n",
            "Your cuurent account balance is: 500000, and account number is, 1234678\n"
          ]
        }
      ]
    },
    {
      "cell_type": "code",
      "source": [
        "\"\"\" Q6 - Describe the five types of inheritance in Python. Provide a simple example of multiple inheritance.\n",
        " -  In Python, inheritance is a key concept of object-oriented programming that allows one class to inherit attributes and methods from another class.\n",
        "Inheritance promotes code reuse and establishes a relationship between classes, where a subclass can inherit the characteristics of a parent class.\n",
        "There are several types of inheritance in Python, each defining different relationships between the classes.\n",
        "\n",
        "1. Single Inheritance\n",
        "In single inheritance, a class (child or subclass) inherits from only one parent (superclass).\"\"\"\n",
        "class Animal:\n",
        "    def speak(self):\n",
        "        print(\"Animal makes a sound\")\n",
        "\n",
        "class Dog(Animal):\n",
        "    def bark(self):\n",
        "        print(\"Dog barks\")\n",
        "dog = Dog()\n",
        "dog.speak()  # Inherited from Animal\n",
        "dog.bark()\n",
        "\n",
        "\n",
        "\"\"\"2. Multiple Inheritance\n",
        "In multiple inheritance, a class can inherit from more than one class. The subclass can inherit attributes and methods from multiple parent classes.\n",
        "\n",
        "Example: \"\"\"\n",
        "\n",
        "class Animal:\n",
        "    def speak(self):\n",
        "        print(\"Animal makes a sound\")\n",
        "\n",
        "class Canine:\n",
        "    def howl(self):\n",
        "        print(\"Canine howls\")\n",
        "\n",
        "class Dog(Animal, Canine):\n",
        "    def bark(self):\n",
        "        print(\"Dog barks\")\n",
        "\n",
        "dog = Dog()\n",
        "dog.speak()  # Inherited from Animal\n",
        "dog.howl()   # Inherited from Canine\n",
        "dog.bark()   # Defined in Dog\n",
        "\n",
        "\"\"\"3. Multilevel Inheritance\n",
        "In multilevel inheritance, a class derives from another class, which is itself derived from another class, forming a chain of inheritance.\n",
        "\n",
        "Example:\"\"\"\n",
        "\n",
        "\n",
        "class Animal:\n",
        "    def speak(self):\n",
        "        print(\"Animal makes a sound\")\n",
        "\n",
        "class Mammal(Animal):\n",
        "    def feed_milk(self):\n",
        "        print(\"Mammal feeds milk\")\n",
        "\n",
        "class Dog(Mammal):\n",
        "    def bark(self):\n",
        "        print(\"Dog barks\")\n",
        "\n",
        "dog = Dog()\n",
        "dog.speak()      # Inherited from Animal\n",
        "dog.feed_milk()  # Inherited from Mammal\n",
        "dog.bark()\n",
        "\n",
        "\"\"\"4. Hierarchical Inheritance\n",
        "In hierarchical inheritance, multiple classes inherit from the same parent class. The parent class is shared by two or more subclasses.\n",
        "\n",
        "Example:\"\"\"\n",
        "\n",
        "class Animal:\n",
        "    def speak(self):\n",
        "        print(\"Animal makes a sound\")\n",
        "\n",
        "class Dog(Animal):\n",
        "    def bark(self):\n",
        "        print(\"Dog barks\")\n",
        "\n",
        "class Cat(Animal):\n",
        "    def meow(self):\n",
        "        print(\"Cat meows\")\n",
        "\n",
        "dog = Dog()\n",
        "dog.speak()  # Inherited from Animal\n",
        "dog.bark()   # Defined in Dog\n",
        "\n",
        "cat = Cat()\n",
        "cat.speak()  # Inherited from Animal\n",
        "cat.meow()   # Defined in Cat\n",
        "\n",
        "\"\"\" 5. Hybrid Inheritance\n",
        "Hybrid inheritance is a combination of two or more types of inheritance, such as multiple and multilevel inheritance, within the same program. This can create more complex inheritance structures.\n",
        "\n",
        "Example:\"\"\"\n",
        "\n",
        "class Animal:\n",
        "    def speak(self):\n",
        "        print(\"Animal makes a sound\")\n",
        "\n",
        "class Canine:\n",
        "    def howl(self):\n",
        "        print(\"Canine howls\")\n",
        "\n",
        "class Mammal(Animal):\n",
        "    def feed_milk(self):\n",
        "        print(\"Mammal feeds milk\")\n",
        "\n",
        "class Dog(Mammal, Canine):\n",
        "    def bark(self):\n",
        "        print(\"Dog barks\")\n",
        "\n",
        "dog = Dog()\n",
        "dog.speak()      # Inherited from Animal (via Mammal)\n",
        "dog.howl()       # Inherited from Canine\n",
        "dog.feed_milk()  # Inherited from Mammal\n",
        "dog.bark()       # Defined in Dog"
      ],
      "metadata": {
        "colab": {
          "base_uri": "https://localhost:8080/"
        },
        "id": "F3LxvJ4eqT9G",
        "outputId": "2746bb13-69ed-45b9-a9dd-16d5c4775979"
      },
      "execution_count": null,
      "outputs": [
        {
          "output_type": "stream",
          "name": "stdout",
          "text": [
            "Animal makes a sound\n",
            "Dog barks\n",
            "Animal makes a sound\n",
            "Canine howls\n",
            "Dog barks\n",
            "Animal makes a sound\n",
            "Mammal feeds milk\n",
            "Dog barks\n",
            "Animal makes a sound\n",
            "Dog barks\n",
            "Animal makes a sound\n",
            "Cat meows\n",
            "Animal makes a sound\n",
            "Canine howls\n",
            "Mammal feeds milk\n",
            "Dog barks\n"
          ]
        }
      ]
    },
    {
      "cell_type": "code",
      "source": [
        "#Q7 - What is the Method Resolution Order (MRO) in Python? How can you retrieve it programmatically?\n",
        "\"\"\" - Method Resolution Order (MRO) in Python\n",
        "Method Resolution Order (MRO) refers to the order in which Python looks for a method or attribute in the class hierarchy when you call it on an instance of a class.\n",
        "\n",
        "MRO is particularly important in the context of multiple inheritance, where a class can inherit methods from multiple parent classes.\n",
        "\n",
        "When you call a method or access an attribute, Python needs to determine which class's method or attribute to use, especially when there are multiple inheritance paths.\n",
        "Python uses a specific order (the MRO) to decide this.\n",
        "\n",
        "MRO in Python:\n",
        "Python uses an algorithm called C3 linearization (or C3 superclass linearization) to determine the MRO.\n",
        "The C3 linearization ensures that the MRO respects the class hierarchy and maintains the order of inheritance in a way that avoids ambiguity,\n",
        "particularly in the case of multiple inheritance.\n",
        "\n",
        "How MRO Works:\n",
        "Python starts looking for the method or attribute in the class where it is called.\n",
        "If it is not found in that class, Python will look in the base class (parent class).\n",
        "This process continues recursively up the class hierarchy (i.e., checking parent classes and their ancestors) until the method is found or all base classes are exhausted.\n",
        "In case of multiple inheritance, Python uses the MRO to determine the order of classes to check.\n",
        "C3 Linearization\n",
        "The C3 linearization algorithm provides a consistent way of determining the MRO in complex inheritance hierarchies. It ensures that:\n",
        "\n",
        "A class is always checked before its parents.\n",
        "The inheritance order is maintained across all levels of the class hierarchy.\n",
        "A class is not checked before its siblings.\n",
        "Example: Understanding MRO with Multiple Inheritance\"\"\"\n",
        "\n",
        "\n",
        "class A:\n",
        "    def method(self):\n",
        "        print(\"Method in class A\")\n",
        "\n",
        "class B(A):\n",
        "    def method(self):\n",
        "        print(\"Method in class B\")\n",
        "\n",
        "class C(A):\n",
        "    def method(self):\n",
        "        print(\"Method in class C\")\n",
        "\n",
        "class D(B, C):\n",
        "    pass\n",
        "\n",
        "d = D()\n",
        "d.method()  # Which method is called?\n",
        "\n",
        "#Retrieving MRO Programmatically\n",
        "\n",
        "print(D.__mro__)"
      ],
      "metadata": {
        "colab": {
          "base_uri": "https://localhost:8080/"
        },
        "id": "Wz0ahNAOpuYv",
        "outputId": "c17d5df3-06cc-4b59-8be3-42ba865e572e"
      },
      "execution_count": null,
      "outputs": [
        {
          "output_type": "stream",
          "name": "stdout",
          "text": [
            "Method in class B\n",
            "(<class '__main__.D'>, <class '__main__.B'>, <class '__main__.C'>, <class '__main__.A'>, <class 'object'>)\n"
          ]
        }
      ]
    },
    {
      "cell_type": "code",
      "source": [
        "#Q8 - Create an abstract base class `Shape` with an abstract method `area()`. Then create two subclasses `Circle` and `Rectangle` that implement the `area()` method\n",
        "\n",
        "import abc\n",
        "class Shape:\n",
        "  @abc.abstractmethod\n",
        "  def area(self):\n",
        "    pass\n",
        "class Circle:\n",
        "  @abc.abstractmethod\n",
        "  def __init__(self,r):\n",
        "    self.r = r\n",
        "  def area(self):\n",
        "    return 3.14*self.r**2\n",
        "\n",
        "class Rectangle:\n",
        "  @abc.abstractmethod\n",
        "  def __init__(self, l,b):\n",
        "    self.l = l\n",
        "    self.b = b\n",
        "  def area(self):\n",
        "    return self.l*self.b\n",
        "\n",
        "c = Circle(8)\n",
        "r = Rectangle(4,8)\n",
        "print(c.area())\n",
        "print(r.area())\n",
        "\n",
        "\n",
        "\n",
        "\n"
      ],
      "metadata": {
        "colab": {
          "base_uri": "https://localhost:8080/"
        },
        "id": "jscY5Cbdt3ZC",
        "outputId": "15cdc082-5bdc-489e-c335-787b593b608f"
      },
      "execution_count": null,
      "outputs": [
        {
          "output_type": "stream",
          "name": "stdout",
          "text": [
            "200.96\n",
            "32\n"
          ]
        }
      ]
    },
    {
      "cell_type": "code",
      "source": [
        "#Q9 - Demonstrate polymorphism by creating a function that can work with different shape objects to calculate and print their areas.\n",
        "\n",
        "import abc\n",
        "import math\n",
        "\n",
        "# Abstract Base Class\n",
        "class Shape(ABC):\n",
        "    @abc.abstractmethod\n",
        "    def area(self):\n",
        "        pass\n",
        "\n",
        "# Subclass for Circle\n",
        "class Circle(Shape):\n",
        "    def __init__(self, radius):\n",
        "        self.radius = radius\n",
        "\n",
        "    def area(self):\n",
        "        return math.pi * self.radius ** 2\n",
        "\n",
        "# Subclass for Rectangle\n",
        "class Rectangle(Shape):\n",
        "    def __init__(self, width, height):\n",
        "        self.width = width\n",
        "        self.height = height\n",
        "\n",
        "    def area(self):\n",
        "        return self.width * self.height\n",
        "\n",
        "# Function demonstrating polymorphism\n",
        "def print_area(shape: Shape):\n",
        "    print(f\"The area of the shape is: {shape.area()}\")\n",
        "\n",
        "# Example usage:\n",
        "c = Circle(5)\n",
        "r = Rectangle(4, 6)\n",
        "\n",
        "print_area(c)\n",
        "print_area(r)\n"
      ],
      "metadata": {
        "colab": {
          "base_uri": "https://localhost:8080/"
        },
        "id": "RapDJmutxgTw",
        "outputId": "4810f33b-8799-4a94-dd05-70831def2a61"
      },
      "execution_count": null,
      "outputs": [
        {
          "output_type": "stream",
          "name": "stdout",
          "text": [
            "The area of the shape is: 78.53981633974483\n",
            "The area of the shape is: 24\n"
          ]
        }
      ]
    },
    {
      "cell_type": "code",
      "source": [
        "\"\"\"Q10 -  Implement encapsulation in a `BankAccount` class with private attributes for `balance` and\n",
        "`account_number`. Include methods for deposit, withdrawal, and balance inquiry.\"\"\"\n",
        "\n",
        "class BankAccount:\n",
        "  def __init__(self, balance, account_number):\n",
        "    self.__balance = balance\n",
        "    self.__account_number = account_number\n",
        "  def deposit(self, amount):\n",
        "    self.amount = amount\n",
        "    if amount>0:\n",
        "      self.__balance += amount\n",
        "    else:\n",
        "      print(\"Deposit amount must be positive.\")\n",
        "    print(f\"amouont = {self.amount} has been deposited to your account and your new balance is {self.__balance}\")\n",
        "\n",
        "  def withdrawl(self, amount):\n",
        "    self.amount = amount\n",
        "    if amount>0:\n",
        "      if amount <= self.__balance:\n",
        "        self.__balance -= amount\n",
        "        print(f\"amouont = {self.amount} has been deducted from your account and your new balance is {self.__balance}\")\n",
        "      else:\n",
        "                print(\"Insufficient funds for this withdrawal.\")\n",
        "    else:\n",
        "            print(\"Withdrawal amount must be positive.\")\n",
        "\n",
        "  def balance_inq(self):\n",
        "    print(\"your current balance is\", self.__balance)\n",
        "a = BankAccount(50000, 123456789)\n",
        "a.deposit(500)\n",
        "a.withdrawl(-12)\n",
        "a.withdrawl(10000)\n",
        "a.balance_inq()\n",
        "\n"
      ],
      "metadata": {
        "id": "XU_jMpAJ09Nr",
        "colab": {
          "base_uri": "https://localhost:8080/"
        },
        "outputId": "b7bf94df-a910-4f2d-8ae6-fc73195a3dbe"
      },
      "execution_count": null,
      "outputs": [
        {
          "output_type": "stream",
          "name": "stdout",
          "text": [
            "amouont = 500 has been deposited to your account and your new balance is 50500\n",
            "Withdrawal amount must be positive.\n",
            "amouont = 10000 has been deducted from your account and your new balance is 40500\n",
            "your current balance is 40500\n"
          ]
        }
      ]
    },
    {
      "cell_type": "code",
      "source": [
        "#Q11 -  Write a class that overrides the `__str__` and `__add__` magic methods. What will these methods allow you to do?\n",
        "\"\"\"1. __str__ Method (String Representation)\n",
        "The __str__ method is used to define the string representation of an object. When you call str(object) or use print(object),\n",
        "Python will call the __str__ method to convert the object into a human-readable string. If you don't define it, Python will use the default implementation,\n",
        "which includes the class name and memory address, but it's usually not very informative.\n",
        "\n",
        "2. __add__ Method (Addition Behavior)\n",
        "The __add__ method allows you to define how the + operator behaves when applied to objects of your class. For example,\n",
        "if you're working with a custom Vector class, you might want to define how adding two vectors should behave (e.g., element-wise addition of the vectors).\n",
        "Without __add__, the + operator would not work with objects of that class, and you would get a TypeError.\"\"\"\n",
        "\n",
        "class Rectangle:\n",
        "    def __init__(self, width, height):\n",
        "        self.width = width\n",
        "        self.height = height\n",
        "\n",
        "    # Overriding the __str__ method to provide a custom string representation\n",
        "    def __str__(self):\n",
        "        return f\"Rectangle(width={self.width}, height={self.height})\"\n",
        "\n",
        "    # Overriding the __add__ method to allow addition of two rectangles\n",
        "    def __add__(self, other):\n",
        "        if isinstance(other, Rectangle):\n",
        "            # The sum of two rectangles is a new rectangle with combined width and height\n",
        "            return Rectangle(self.width + other.width, self.height + other.height)\n",
        "        return NotImplemented\n",
        "\n",
        "# Example usage:\n",
        "rect1 = Rectangle(3, 4)\n",
        "rect2 = Rectangle(5, 6)\n",
        "\n",
        "# Using __str__ for printing the rectangle objects\n",
        "print(rect1)  # Output: Rectangle(width=3, height=4)\n",
        "print(rect2)  # Output: Rectangle(width=5, height=6)\n",
        "\n",
        "# Using __add__ for adding two rectangles\n",
        "rect3 = rect1 + rect2\n",
        "print(rect3)  # Output: Rectangle(width=8, height=10)"
      ],
      "metadata": {
        "colab": {
          "base_uri": "https://localhost:8080/"
        },
        "id": "Rk-Ty2d48MQK",
        "outputId": "7eb143bd-4b2d-447a-9520-bf21817704e3"
      },
      "execution_count": null,
      "outputs": [
        {
          "output_type": "stream",
          "name": "stdout",
          "text": [
            "Rectangle(width=3, height=4)\n",
            "Rectangle(width=5, height=6)\n",
            "Rectangle(width=8, height=10)\n"
          ]
        }
      ]
    },
    {
      "cell_type": "code",
      "source": [
        "#Q12 - Create a decorator that measures and prints the execution time of a function.\n",
        "import time\n",
        "def timer_decorator(func):\n",
        "  def timer():\n",
        "    start = time.time()\n",
        "    func()\n",
        "    end = time.time()\n",
        "    print(\"The time for executing the code\",end-start)\n",
        "  return timer\n",
        "@timer_decorator\n",
        "def func_test():\n",
        "  print(1100000*1000)\n",
        "func_test()\n"
      ],
      "metadata": {
        "colab": {
          "base_uri": "https://localhost:8080/"
        },
        "id": "3DMcQmT9H2td",
        "outputId": "225d4fbc-4513-4b44-e92c-c996386c85c2"
      },
      "execution_count": null,
      "outputs": [
        {
          "output_type": "stream",
          "name": "stdout",
          "text": [
            "1100000000\n",
            "The time for executing the code 0.0002956390380859375\n"
          ]
        }
      ]
    },
    {
      "cell_type": "code",
      "source": [
        "#Q13 - Explain the concept of the Diamond Problem in multiple inheritance. How does Python resolve it?\n",
        "\"\"\"The Diamond Problem in Multiple Inheritance\n",
        "The Diamond Problem is a well-known issue that arises in programming languages that support multiple inheritance, where a class can inherit from more than one class.\n",
        "The problem occurs when a class inherits from two classes that both inherit from a common base class, creating a \"diamond\" shape in the inheritance hierarchy.\n",
        "This creates ambiguity when a method or attribute is called, because it’s unclear which method (or attribute) should be invoked — the one from the first parent,\n",
        "the second parent, or the base class.\"\"\"\n",
        "\n",
        "#Diamond Problem\n",
        "class A:\n",
        "  def method(self):\n",
        "    print(\"method class of A\")\n",
        "class B(A):\n",
        "  def method(self):\n",
        "    print(\"method class of B\")\n",
        "class C(A):\n",
        "  def method(self):\n",
        "    print(\"method class of C\")\n",
        "class D(B, C):\n",
        "  pass\n",
        "\n",
        "#How Does Python Resolve the Diamond Problem?\n",
        "\"\"\"Python uses the Method Resolution Order (MRO) to resolve this ambiguity.\n",
        "The MRO is a set of rules that Python follows to determine the order in which base classes are looked up when a method or attribute is called.\n",
        "\n",
        "Python uses the C3 Linearization Algorithm (also known as C3 superclass linearization) to resolve the method lookup order in case of multiple inheritance.\n",
        "The key idea of this algorithm is to create a linearized order of classes that avoids ambiguity and ensures that the method resolution respects the inheritance structure.\n",
        "\n",
        "The C3 Linearization\n",
        "In Python, the MRO is determined at class creation time. If you call mro() on a class, it shows the order in which methods are looked up.\"\"\"\n",
        "\n",
        "class A:\n",
        "    def method(self):\n",
        "        print(\"Method in class A\")\n",
        "\n",
        "class B(A):\n",
        "    def method(self):\n",
        "        print(\"Method in class B\")\n",
        "        super().method()  # Calls method from A\n",
        "\n",
        "class C(A):\n",
        "    def method(self):\n",
        "        print(\"Method in class C\")\n",
        "        super().method()  # Calls method from A\n",
        "\n",
        "class D(B, C):\n",
        "    def method(self):\n",
        "        print(\"Method in class D\")\n",
        "        super().method()  # Calls method from B, then C, then A\n",
        "\n",
        "# Create an object of class D and call the method\n",
        "d = D()\n",
        "d.method()"
      ],
      "metadata": {
        "colab": {
          "base_uri": "https://localhost:8080/"
        },
        "id": "y7quJb80CI6W",
        "outputId": "23f05703-3fe1-474b-c8b0-8c3ee37143ac"
      },
      "execution_count": null,
      "outputs": [
        {
          "output_type": "stream",
          "name": "stdout",
          "text": [
            "Method in class D\n",
            "Method in class B\n",
            "Method in class C\n",
            "Method in class A\n"
          ]
        }
      ]
    },
    {
      "cell_type": "code",
      "source": [
        "#Q14 - Write a class method that keeps track of the number of instances created from a class.\n",
        "\n",
        "class MyClass:\n",
        "    # Class variable to track the number of instances\n",
        "    instance_count = 0\n",
        "\n",
        "    def __init__(self):\n",
        "        # Increment the instance count whenever a new object is created\n",
        "        MyClass.instance_count += 1\n",
        "\n",
        "    @classmethod\n",
        "    def get_instance_count(cls):\n",
        "        # Class method to get the current instance count\n",
        "        return cls.instance_count\n",
        "\n",
        "# Example usage:\n",
        "# Create instances of the class\n",
        "obj1 = MyClass()\n",
        "obj2 = MyClass()\n",
        "obj3 = MyClass()\n",
        "\n",
        "# Get the number of instances created\n",
        "print(MyClass.get_instance_count())\n"
      ],
      "metadata": {
        "colab": {
          "base_uri": "https://localhost:8080/"
        },
        "id": "113wSdOrEra3",
        "outputId": "7a8587b6-6d5f-457a-8719-e53531477927"
      },
      "execution_count": null,
      "outputs": [
        {
          "output_type": "stream",
          "name": "stdout",
          "text": [
            "3\n"
          ]
        }
      ]
    },
    {
      "cell_type": "code",
      "source": [
        "#Q15 - Implement a static method in a class that checks if a given year is a leap year.\n",
        "\n",
        "class Year:\n",
        "    @staticmethod\n",
        "    def is_leap_year(year):\n",
        "        if (year % 4 == 0 and year % 100 != 0) or (year % 400 == 0):\n",
        "            print(f\"The year {year} is a leap year\")\n",
        "        else:\n",
        "            print(f\"The year{year} is not a leap year\")\n",
        "\n",
        "\n",
        "Year.is_leap_year(2024)\n",
        "Year.is_leap_year(1900)\n",
        "Year.is_leap_year(2000)\n",
        "Year.is_leap_year(2023)"
      ],
      "metadata": {
        "colab": {
          "base_uri": "https://localhost:8080/"
        },
        "id": "30hXmm0TIoSt",
        "outputId": "c821fa4e-d8ae-48e7-dae3-cc3ba181ddd4"
      },
      "execution_count": null,
      "outputs": [
        {
          "output_type": "stream",
          "name": "stdout",
          "text": [
            "The year 2024 is a leap year\n",
            "The year1900 is not a leap year\n",
            "The year 2000 is a leap year\n",
            "The year2023 is not a leap year\n"
          ]
        }
      ]
    }
  ]
}